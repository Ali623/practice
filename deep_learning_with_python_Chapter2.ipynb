{
  "nbformat": 4,
  "nbformat_minor": 0,
  "metadata": {
    "colab": {
      "name": "Chapter2.ipynb",
      "version": "0.3.2",
      "provenance": [],
      "include_colab_link": true
    },
    "language_info": {
      "codemirror_mode": {
        "name": "ipython",
        "version": 3
      },
      "file_extension": ".py",
      "mimetype": "text/x-python",
      "name": "python",
      "nbconvert_exporter": "python",
      "pygments_lexer": "ipython3",
      "version": "3.5.4"
    },
    "kernelspec": {
      "display_name": "Python 3",
      "language": "python",
      "name": "python3"
    }
  },
  "cells": [
    {
      "cell_type": "markdown",
      "metadata": {
        "id": "view-in-github",
        "colab_type": "text"
      },
      "source": [
        "<a href=\"https://colab.research.google.com/github/Ali623/practice/blob/master/deep_learning_with_python_Chapter2.ipynb\" target=\"_parent\"><img src=\"https://colab.research.google.com/assets/colab-badge.svg\" alt=\"Open In Colab\"/></a>"
      ]
    },
    {
      "cell_type": "markdown",
      "metadata": {
        "id": "cvfKLfUxnwdf",
        "colab_type": "text"
      },
      "source": [
        "# Chapter 2\n",
        "### This chapter covers\n",
        "- A first example of a neural network\n",
        "- Tensors and tensor operations\n",
        "- How neural networks learn via backpropagation\n",
        "and gradient descent"
      ]
    },
    {
      "cell_type": "markdown",
      "metadata": {
        "id": "rvMIhA3snwd2",
        "colab_type": "text"
      },
      "source": [
        "We simple learn mathmatical concept and, know about tensor, tensor operation and neural network"
      ]
    },
    {
      "cell_type": "markdown",
      "metadata": {
        "id": "WNkzdje4nwen",
        "colab_type": "text"
      },
      "source": [
        "## 2.1 A first look at a neural network\n"
      ]
    },
    {
      "cell_type": "markdown",
      "metadata": {
        "id": "SWVU73VGnwep",
        "colab_type": "text"
      },
      "source": [
        "- Classification Problem Hand writing number (0 to 9) 28X28 pixels\n",
        "- Use MNIST Data set\n",
        "- See some MNIST samples in figure 2.1"
      ]
    },
    {
      "cell_type": "markdown",
      "metadata": {
        "id": "_99B4oAanwew",
        "colab_type": "text"
      },
      "source": [
        "#### Note on classes and labels\n",
        "In machine learning, a category in a classification problem is called a class. Data\n",
        "points are called samples. The class associated with a specific sample is called a\n",
        "label."
      ]
    },
    {
      "cell_type": "markdown",
      "metadata": {
        "id": "TFpugj2jnwey",
        "colab_type": "text"
      },
      "source": [
        "# <img src=\"images/f2.1.png\">"
      ]
    },
    {
      "cell_type": "markdown",
      "metadata": {
        "id": "N8nF2E7Snwe2",
        "colab_type": "text"
      },
      "source": [
        "# Use Keras to solve above problem "
      ]
    },
    {
      "cell_type": "code",
      "metadata": {
        "id": "LiIRyuEvnwe9",
        "colab_type": "code",
        "colab": {
          "base_uri": "https://localhost:8080/",
          "height": 68
        },
        "outputId": "4d1b3958-332d-4380-cec7-9966fbbb05e9"
      },
      "source": [
        "# 2.1\n",
        "from keras.datasets import mnist\n",
        "(train_images, train_labels), (test_images, test_labels) = mnist.load_data()"
      ],
      "execution_count": 1,
      "outputs": [
        {
          "output_type": "stream",
          "text": [
            "Using TensorFlow backend.\n"
          ],
          "name": "stderr"
        },
        {
          "output_type": "stream",
          "text": [
            "Downloading data from https://s3.amazonaws.com/img-datasets/mnist.npz\n",
            "11493376/11490434 [==============================] - 0s 0us/step\n"
          ],
          "name": "stdout"
        }
      ]
    },
    {
      "cell_type": "markdown",
      "metadata": {
        "id": "x_LNFVAsnwhu",
        "colab_type": "text"
      },
      "source": [
        "`mnist.load_data()` this function reuturn four values \n",
        "- train_data, train_labels (60% from all data)\n",
        "- test_data, test_labels (40% from all data)\n"
      ]
    },
    {
      "cell_type": "markdown",
      "metadata": {
        "id": "91SmXgNynwh9",
        "colab_type": "text"
      },
      "source": [
        "#### Our images convert in numpuy array with value of grayscale mode (R,G,B convert into GrayScale= R+G+B/3)\n",
        "#### Labels are in 0 to 9\n",
        "\n",
        "## About Train Data Details"
      ]
    },
    {
      "cell_type": "code",
      "metadata": {
        "id": "qr1B7YsAnwh_",
        "colab_type": "code",
        "colab": {
          "base_uri": "https://localhost:8080/",
          "height": 68
        },
        "outputId": "3eaa405a-0710-411d-949b-13bd0062fc89"
      },
      "source": [
        "print(\"Train Image Shape: \", train_images.shape)\n",
        "print(\"Len of train labels:\", len(train_labels))\n",
        "train_labels"
      ],
      "execution_count": 2,
      "outputs": [
        {
          "output_type": "stream",
          "text": [
            "Train Image Shape:  (60000, 28, 28)\n",
            "Len of train labels: 60000\n"
          ],
          "name": "stdout"
        },
        {
          "output_type": "execute_result",
          "data": {
            "text/plain": [
              "array([5, 0, 4, ..., 5, 6, 8], dtype=uint8)"
            ]
          },
          "metadata": {
            "tags": []
          },
          "execution_count": 2
        }
      ]
    },
    {
      "cell_type": "markdown",
      "metadata": {
        "id": "sVNyJNnSnwiR",
        "colab_type": "text"
      },
      "source": [
        "## About Test Data Details"
      ]
    },
    {
      "cell_type": "code",
      "metadata": {
        "id": "pLnJb0XxnwiT",
        "colab_type": "code",
        "colab": {
          "base_uri": "https://localhost:8080/",
          "height": 68
        },
        "outputId": "b99c9293-7923-4a0e-f6ac-3f490093f3d3"
      },
      "source": [
        "print(\"Train Image Shape: \", test_images.shape)\n",
        "print(\"Len of train labels:\", len(test_labels))\n",
        "test_labels"
      ],
      "execution_count": 3,
      "outputs": [
        {
          "output_type": "stream",
          "text": [
            "Train Image Shape:  (10000, 28, 28)\n",
            "Len of train labels: 10000\n"
          ],
          "name": "stdout"
        },
        {
          "output_type": "execute_result",
          "data": {
            "text/plain": [
              "array([7, 2, 1, ..., 4, 5, 6], dtype=uint8)"
            ]
          },
          "metadata": {
            "tags": []
          },
          "execution_count": 3
        }
      ]
    },
    {
      "cell_type": "markdown",
      "metadata": {
        "id": "TmdgIB7Inwik",
        "colab_type": "text"
      },
      "source": [
        "Lets Try to train our module \n",
        "- learn train label from train data\n",
        "- predict label on test data then match with test data labels"
      ]
    },
    {
      "cell_type": "markdown",
      "metadata": {
        "id": "Il3-ZD3Lnwim",
        "colab_type": "text"
      },
      "source": [
        "## Listing 2.2 The network architecture"
      ]
    },
    {
      "cell_type": "code",
      "metadata": {
        "id": "SCkbwjETnwip",
        "colab_type": "code",
        "colab": {}
      },
      "source": [
        "from keras import models\n",
        "from keras import layers\n",
        "network = models.Sequential()\n",
        "network.add(layers.Dense(512, activation='relu', input_shape=(28 * 28,)))\n",
        "network.add(layers.Dense(10, activation='softmax'))"
      ],
      "execution_count": 0,
      "outputs": []
    },
    {
      "cell_type": "markdown",
      "metadata": {
        "id": "71_7yIQUnwi1",
        "colab_type": "text"
      },
      "source": [
        "- core think in network is layer\n",
        "- every layer work like filter where data through in layer and it comes out in more usefull form\n",
        "-  layers extract representations out of the data fed into them\n",
        "- deep learning consists of chaining together simple layers that will implement a form\n",
        "of progressive data distillation.\n",
        "- Deep learning model like a sieve for data processing, made of a succession of increasingly refined data filters \n",
        "- <b>our network consists of a sequence of two Dense layers,</b>  which are densely\n",
        "connected (also called fully connected) neural layers. \n",
        "The second (and last) layer is a 10-way softmax layer, that return of 10 probility scores (suming to 1) each score probility the current digit image belong on of our 10 digit classes."
      ]
    },
    {
      "cell_type": "markdown",
      "metadata": {
        "id": "5NZs3SVunwjC",
        "colab_type": "text"
      },
      "source": [
        " To make the network ready for training, we need to pick three more things, as part\n",
        "of the compilation step:\n",
        "- loss function\n",
        "- An optimizer\n",
        "- Metrics to monitor during training and testing"
      ]
    },
    {
      "cell_type": "markdown",
      "metadata": {
        "id": "YMdJOv1-nwj0",
        "colab_type": "text"
      },
      "source": [
        "## Listing 2.3 The compilation step\n"
      ]
    },
    {
      "cell_type": "code",
      "metadata": {
        "id": "eFpz8iF9nwj4",
        "colab_type": "code",
        "colab": {}
      },
      "source": [
        "network.compile(optimizer='rmsprop',\n",
        "                loss='categorical_crossentropy',\n",
        "                metrics=['accuracy'])\n"
      ],
      "execution_count": 0,
      "outputs": []
    },
    {
      "cell_type": "markdown",
      "metadata": {
        "id": "aAUHg_vknwkF",
        "colab_type": "raw"
      },
      "source": [
        "Before training, we’ll preprocess the data by reshaping it into the shape the network\n",
        "expects and scaling it so that all values are in the [0, 1] interval. Previously, our training\n",
        "images, for instance, were stored in an array of shape (60000, 28, 28) of type\n",
        "uint8 with values in the [0, 255] interval. We transform it into a float32 array of\n",
        "shape (60000, 28 * 28) with values between 0 and 1."
      ]
    },
    {
      "cell_type": "markdown",
      "metadata": {
        "id": "ThOLR8g5nwkH",
        "colab_type": "text"
      },
      "source": [
        "# Listing 2.4 Preparing the image data"
      ]
    },
    {
      "cell_type": "code",
      "metadata": {
        "id": "lcrnX8UJnwkK",
        "colab_type": "code",
        "colab": {
          "base_uri": "https://localhost:8080/",
          "height": 34
        },
        "outputId": "3fa69867-7e13-4544-c29b-8b9f57dca36c"
      },
      "source": [
        "train_images = train_images.reshape((60000, 28 * 28))\n",
        "train_images = train_images.astype('float32') / 255\n",
        "test_images = test_images.reshape((10000, 28 * 28))\n",
        "test_images = test_images.astype('float32') / 255\n",
        "train_images.size"
      ],
      "execution_count": 16,
      "outputs": [
        {
          "output_type": "execute_result",
          "data": {
            "text/plain": [
              "47040000"
            ]
          },
          "metadata": {
            "tags": []
          },
          "execution_count": 16
        }
      ]
    },
    {
      "cell_type": "markdown",
      "metadata": {
        "id": "c4GHs3uUnwk_",
        "colab_type": "text"
      },
      "source": [
        "# Listing 2.5 Preparing the labels"
      ]
    },
    {
      "cell_type": "code",
      "metadata": {
        "id": "US7SslMwnwlB",
        "colab_type": "code",
        "colab": {}
      },
      "source": [
        "from keras.utils import to_categorical\n",
        "train_labels = to_categorical(train_labels)\n",
        "test_labels = to_categorical(test_labels)"
      ],
      "execution_count": 0,
      "outputs": []
    },
    {
      "cell_type": "markdown",
      "metadata": {
        "id": "TLVmTjRknwmZ",
        "colab_type": "text"
      },
      "source": [
        "We’re now ready to train the network, which in Keras is done via a call to the network’s\n",
        "fit method—we fit the model to its training data:"
      ]
    },
    {
      "cell_type": "code",
      "metadata": {
        "id": "-UiU768Snwmb",
        "colab_type": "code",
        "colab": {}
      },
      "source": [
        " network.fit(train_images, train_labels, epochs=5, batch_size=128)"
      ],
      "execution_count": 0,
      "outputs": []
    },
    {
      "cell_type": "markdown",
      "metadata": {
        "id": "Rq_0bLEknwmr",
        "colab_type": "text"
      },
      "source": [
        "We quickly reach an accuracy of 0.989 (98.9%) on the training data. Now let’s\n",
        "check that the model performs well on the test set, too:\n"
      ]
    },
    {
      "cell_type": "code",
      "metadata": {
        "id": "soYksRZInwmt",
        "colab_type": "code",
        "colab": {},
        "outputId": "10ec2ecd-c4c5-4d9b-c398-d64e4eeb5b33"
      },
      "source": [
        " test_loss, test_acc = network.evaluate(test_images, test_labels)"
      ],
      "execution_count": 0,
      "outputs": [
        {
          "output_type": "stream",
          "text": [
            "10000/10000 [==============================] - 1s     \n"
          ],
          "name": "stdout"
        }
      ]
    },
    {
      "cell_type": "code",
      "metadata": {
        "id": "_lEKnRV8nwm6",
        "colab_type": "code",
        "colab": {},
        "outputId": "cb1908dd-3612-4c0e-c747-5d483d140b69"
      },
      "source": [
        "print('test_acc:', test_acc)"
      ],
      "execution_count": 0,
      "outputs": [
        {
          "output_type": "stream",
          "text": [
            "test_acc: 0.981\n"
          ],
          "name": "stdout"
        }
      ]
    },
    {
      "cell_type": "markdown",
      "metadata": {
        "id": "j_xuK9lknwnR",
        "colab_type": "text"
      },
      "source": [
        "what’s going on behind the scenes. You’ll learn about tensors, the data-storing objects\n",
        "going into the network; tensor operations, which layers are made of; and gradient\n",
        "descent, which allows your network to learn from its training examples"
      ]
    },
    {
      "cell_type": "markdown",
      "metadata": {
        "id": "E43Dz-D6nwnT",
        "colab_type": "text"
      },
      "source": [
        "# 2.2 Data representations for neural networks"
      ]
    },
    {
      "cell_type": "markdown",
      "metadata": {
        "id": "TuI4gPH2nwnj",
        "colab_type": "text"
      },
      "source": [
        "-  At its core, a tensor is a container for data—almost always numerical data.\n",
        "- which are 2D tensors:\n",
        "tensors are a generalization of matrices to an arbitrary number of dimensions\n",
        "(note that in the context of tensors, a dimension is often called an axis)."
      ]
    },
    {
      "cell_type": "markdown",
      "metadata": {
        "id": "f68OCfFCnwnl",
        "colab_type": "text"
      },
      "source": [
        "## 2.2.1 Scalars (0D tensors)\n",
        "- A tensor that contain just one number is call Scalar\n",
        "- a scalar\n",
        "tensor has 0 axes (ndim == 0).The number of axes of a tensor is also called its rank.\n",
        "Here’s a Numpy scalar:\n"
      ]
    },
    {
      "cell_type": "code",
      "metadata": {
        "id": "gHZiJMafnwn9",
        "colab_type": "code",
        "colab": {
          "base_uri": "https://localhost:8080/",
          "height": 34
        },
        "outputId": "c0a9539f-545a-4776-90ee-e32a5ea6788c"
      },
      "source": [
        "import numpy as np\n",
        "x = np.array(12)\n",
        "x"
      ],
      "execution_count": 18,
      "outputs": [
        {
          "output_type": "execute_result",
          "data": {
            "text/plain": [
              "array(12)"
            ]
          },
          "metadata": {
            "tags": []
          },
          "execution_count": 18
        }
      ]
    },
    {
      "cell_type": "code",
      "metadata": {
        "id": "EKhMNCXfnwoK",
        "colab_type": "code",
        "colab": {},
        "outputId": "1ce3b04b-41e3-48c7-d013-7d1054be4100"
      },
      "source": [
        "x.ndim"
      ],
      "execution_count": 0,
      "outputs": [
        {
          "output_type": "execute_result",
          "data": {
            "text/plain": [
              "0"
            ]
          },
          "metadata": {
            "tags": []
          },
          "execution_count": 12
        }
      ]
    },
    {
      "cell_type": "markdown",
      "metadata": {
        "id": "D5kM1kMTnwoX",
        "colab_type": "text"
      },
      "source": [
        "## 2.2.2 Vectors (1D tensors)"
      ]
    },
    {
      "cell_type": "markdown",
      "metadata": {
        "id": "OqSk13sYnwoZ",
        "colab_type": "text"
      },
      "source": [
        "- Array of numbers is called vector, id tensor, a ID tensor is said to have exactly one axis "
      ]
    },
    {
      "cell_type": "code",
      "metadata": {
        "id": "6wBBL_tZnwoa",
        "colab_type": "code",
        "colab": {
          "base_uri": "https://localhost:8080/",
          "height": 51
        },
        "outputId": "615a381e-7202-4b0e-a405-53688505a564"
      },
      "source": [
        "x = np.array([12,3,6,14])\n",
        "print(x)\n",
        "print(x.ndim)"
      ],
      "execution_count": 20,
      "outputs": [
        {
          "output_type": "stream",
          "text": [
            "[12  3  6 14]\n",
            "1\n"
          ],
          "name": "stdout"
        }
      ]
    },
    {
      "cell_type": "markdown",
      "metadata": {
        "id": "n8N2CzJznwrQ",
        "colab_type": "text"
      },
      "source": [
        "- This vector has five entries and so is called a 5-dimensional vector\n",
        "- whereas a 5D tensor has five axes  (and may have any number of dimensions\n",
        "along each axis).\n",
        "-  it’s technically more\n",
        "correct to talk about a tensor of rank 5 (the rank of a tensor being the number of axes),\n"
      ]
    },
    {
      "cell_type": "markdown",
      "metadata": {
        "id": "bM1mZa84nwrb",
        "colab_type": "text"
      },
      "source": [
        "# 2.2.3 Matrices (2D tensors)\n",
        "- An array of vectors is a matrix, or 2D tensor. A matrix has two axes (often referred to\n",
        "rows and columns)."
      ]
    },
    {
      "cell_type": "code",
      "metadata": {
        "id": "ydY_tuc6nwre",
        "colab_type": "code",
        "colab": {
          "base_uri": "https://localhost:8080/",
          "height": 68
        },
        "outputId": "f4e497de-76d7-43c5-8ae2-78ffbcf37b7b"
      },
      "source": [
        "x = np.array([[5, 78, 2, 34, 0],\n",
        "              [6, 79, 3, 35, 1],\n",
        "              [7, 80, 4, 36, 2]])\n",
        "x"
      ],
      "execution_count": 21,
      "outputs": [
        {
          "output_type": "execute_result",
          "data": {
            "text/plain": [
              "array([[ 5, 78,  2, 34,  0],\n",
              "       [ 6, 79,  3, 35,  1],\n",
              "       [ 7, 80,  4, 36,  2]])"
            ]
          },
          "metadata": {
            "tags": []
          },
          "execution_count": 21
        }
      ]
    },
    {
      "cell_type": "code",
      "metadata": {
        "id": "oNV9RfZHnwrs",
        "colab_type": "code",
        "colab": {},
        "outputId": "3a1345c7-2535-4834-fd16-befd538fe8cf"
      },
      "source": [
        "x.ndim"
      ],
      "execution_count": 0,
      "outputs": [
        {
          "output_type": "execute_result",
          "data": {
            "text/plain": [
              "2"
            ]
          },
          "metadata": {
            "tags": []
          },
          "execution_count": 15
        }
      ]
    },
    {
      "cell_type": "markdown",
      "metadata": {
        "id": "UwB1lPzPnwsv",
        "colab_type": "text"
      },
      "source": [
        "# 2.2.4 3D tensors and higher-dimensional tensors\n",
        "-  which you can visually\n",
        "interpret as a cube of numbers. Following is a Numpy 3D tensor:"
      ]
    },
    {
      "cell_type": "code",
      "metadata": {
        "id": "t-lCLvh6nwsw",
        "colab_type": "code",
        "colab": {
          "base_uri": "https://localhost:8080/",
          "height": 204
        },
        "outputId": "276f49a1-d34b-45a4-88d5-f76526ad93bf"
      },
      "source": [
        "x = np.array([[[5, 78, 2, 34, 0],\n",
        "               [6, 79, 3, 35, 1],\n",
        "               [7, 80, 4, 36, 2]],\n",
        "              [[5, 78, 2, 34, 0],\n",
        "               [6, 79, 3, 35, 1],\n",
        "               [7, 80, 4, 36, 2]],\n",
        "              [[5, 78, 2, 34, 0],\n",
        "               [6, 79, 3, 35, 1],\n",
        "               [7, 80, 4, 36, 2]]])\n",
        "x"
      ],
      "execution_count": 22,
      "outputs": [
        {
          "output_type": "execute_result",
          "data": {
            "text/plain": [
              "array([[[ 5, 78,  2, 34,  0],\n",
              "        [ 6, 79,  3, 35,  1],\n",
              "        [ 7, 80,  4, 36,  2]],\n",
              "\n",
              "       [[ 5, 78,  2, 34,  0],\n",
              "        [ 6, 79,  3, 35,  1],\n",
              "        [ 7, 80,  4, 36,  2]],\n",
              "\n",
              "       [[ 5, 78,  2, 34,  0],\n",
              "        [ 6, 79,  3, 35,  1],\n",
              "        [ 7, 80,  4, 36,  2]]])"
            ]
          },
          "metadata": {
            "tags": []
          },
          "execution_count": 22
        }
      ]
    },
    {
      "cell_type": "code",
      "metadata": {
        "id": "LqFAh6lonwtC",
        "colab_type": "code",
        "colab": {},
        "outputId": "9da439d2-0881-4fe0-8346-064435a796c0"
      },
      "source": [
        "x.ndim"
      ],
      "execution_count": 0,
      "outputs": [
        {
          "output_type": "execute_result",
          "data": {
            "text/plain": [
              "3"
            ]
          },
          "metadata": {
            "tags": []
          },
          "execution_count": 17
        }
      ]
    },
    {
      "cell_type": "markdown",
      "metadata": {
        "id": "RinjFSeynwtN",
        "colab_type": "text"
      },
      "source": [
        "# 2.2.5 Key attributes"
      ]
    },
    {
      "cell_type": "markdown",
      "metadata": {
        "id": "UdaOOatcnwtO",
        "colab_type": "text"
      },
      "source": [
        "- A tensor is defined by three key attributes:\n",
        "- <b>Number of axes (rank)</b>:<br>For instance, a 3D tensor has three axes, and a matrix has\n",
        "two axes. This is also called the tensor’s ndim in Python libraries such as Numpy.\n",
        "- <b>Shape</b>:<br>shape\n",
        "(3, 5), and the 3D tensor example has shape (3, 3, 5). A vector has a shape\n",
        "with a single element, such as (5,), whereas a scalar has an empty shape, ().\n",
        "- <b>Data type</b>:\n",
        "     tensor’s type could be float32, uint8,\n",
        "float64, and so on. On rare occasions, you may see a char tensor. Note that\n",
        "string tensors don’t exist in Numpy (or in most other libraries),To make this more concrete, let’s look back at the data we processed in the MNIST\n",
        "example. First, we load the MNIST dataset:\n"
      ]
    },
    {
      "cell_type": "code",
      "metadata": {
        "id": "6n4ZN1PSnwtS",
        "colab_type": "code",
        "colab": {}
      },
      "source": [
        "from keras.datasets import mnist\n",
        "(train_images, train_labels), (test_images, test_labels) = mnist.load_data()"
      ],
      "execution_count": 0,
      "outputs": []
    },
    {
      "cell_type": "markdown",
      "metadata": {
        "id": "xyla0yVjnwtY",
        "colab_type": "text"
      },
      "source": [
        "Next, we display the number of axes of the tensor train_images, the ndim attribute:"
      ]
    },
    {
      "cell_type": "code",
      "metadata": {
        "id": "-I7fsu1knwtf",
        "colab_type": "code",
        "colab": {
          "base_uri": "https://localhost:8080/",
          "height": 34
        },
        "outputId": "7d8620e3-ce51-4679-c9e9-9921253a483a"
      },
      "source": [
        "print(train_images.ndim)"
      ],
      "execution_count": 24,
      "outputs": [
        {
          "output_type": "stream",
          "text": [
            "3\n"
          ],
          "name": "stdout"
        }
      ]
    },
    {
      "cell_type": "code",
      "metadata": {
        "id": "Tb1n6Zo0nwto",
        "colab_type": "code",
        "colab": {
          "base_uri": "https://localhost:8080/",
          "height": 34
        },
        "outputId": "f76f9d89-f47e-406e-d341-0de1255ca277"
      },
      "source": [
        "print(train_images.shape)"
      ],
      "execution_count": 25,
      "outputs": [
        {
          "output_type": "stream",
          "text": [
            "(60000, 28, 28)\n"
          ],
          "name": "stdout"
        }
      ]
    },
    {
      "cell_type": "code",
      "metadata": {
        "id": "zI1gHTm8nwt2",
        "colab_type": "code",
        "colab": {
          "base_uri": "https://localhost:8080/",
          "height": 34
        },
        "outputId": "734c3764-3971-42ba-9c03-641c5c9f3021"
      },
      "source": [
        "type(train_images)"
      ],
      "execution_count": 26,
      "outputs": [
        {
          "output_type": "execute_result",
          "data": {
            "text/plain": [
              "numpy.ndarray"
            ]
          },
          "metadata": {
            "tags": []
          },
          "execution_count": 26
        }
      ]
    },
    {
      "cell_type": "code",
      "metadata": {
        "id": "0nkayJPAnwuJ",
        "colab_type": "code",
        "colab": {
          "base_uri": "https://localhost:8080/",
          "height": 34
        },
        "outputId": "37032a6e-27db-4cf4-cc92-383da741a477"
      },
      "source": [
        "print(train_images.dtype)"
      ],
      "execution_count": 27,
      "outputs": [
        {
          "output_type": "stream",
          "text": [
            "uint8\n"
          ],
          "name": "stdout"
        }
      ]
    },
    {
      "cell_type": "markdown",
      "metadata": {
        "id": "S5_2_hHRnwuP",
        "colab_type": "text"
      },
      "source": [
        "So what we have here is a 3D tensor of 8-bit integers. More precisely, it’s an array of\n",
        "60,000 matrices of 28 × 8 integers. Each such matrix is a grayscale image, with coefficients\n",
        "between 0 and 255.\n",
        " Let’s display the fourth digit in this 3D tensor, using the library Matplotlib (part of\n",
        "the standard scientific Python suite); see figure 2.2. "
      ]
    },
    {
      "cell_type": "markdown",
      "metadata": {
        "id": "sE7um7XynwuR",
        "colab_type": "text"
      },
      "source": [
        "## Listing 2.6 Displaying the fourth digit"
      ]
    },
    {
      "cell_type": "code",
      "metadata": {
        "id": "aBz3YhXEnwuT",
        "colab_type": "code",
        "colab": {
          "base_uri": "https://localhost:8080/",
          "height": 269
        },
        "outputId": "90e6d661-fa8d-481c-b60d-aa67c9ed896b"
      },
      "source": [
        "digit = train_images[4]\n",
        "\n",
        "import matplotlib.pyplot as plt\n",
        "plt.imshow(digit, cmap=plt.cm.binary)\n",
        "plt.show()"
      ],
      "execution_count": 28,
      "outputs": [
        {
          "output_type": "display_data",
          "data": {
            "image/png": "[encoded data removed]",
            "text/plain": [
              "<Figure size 432x288 with 1 Axes>"
            ]
          },
          "metadata": {
            "tags": []
          }
        }
      ]
    },
    {
      "cell_type": "markdown",
      "metadata": {
        "id": "RHUrXuw6nwvR",
        "colab_type": "text"
      },
      "source": [
        "## 2.2.6 Manipulating tensors in Numpy"
      ]
    },
    {
      "cell_type": "code",
      "metadata": {
        "id": "zcTpRN-EnwvT",
        "colab_type": "code",
        "colab": {
          "base_uri": "https://localhost:8080/",
          "height": 34
        },
        "outputId": "25251652-0c30-48ab-cc95-729ea11b5e31"
      },
      "source": [
        "my_slice = train_images[10:100]\n",
        "my_slice.shape"
      ],
      "execution_count": 30,
      "outputs": [
        {
          "output_type": "execute_result",
          "data": {
            "text/plain": [
              "(90, 28, 28)"
            ]
          },
          "metadata": {
            "tags": []
          },
          "execution_count": 30
        }
      ]
    },
    {
      "cell_type": "code",
      "metadata": {
        "id": "rnBOpSw1nwvb",
        "colab_type": "code",
        "colab": {}
      },
      "source": [
        "my_slice = train_images[10:100, :, :]\n",
        "my_slice.shape"
      ],
      "execution_count": 0,
      "outputs": []
    },
    {
      "cell_type": "code",
      "metadata": {
        "id": "W93ujkzlnwvl",
        "colab_type": "code",
        "colab": {
          "base_uri": "https://localhost:8080/",
          "height": 34
        },
        "outputId": "ed8de9d6-59bf-4e29-e476-ea27a04be3c8"
      },
      "source": [
        "my_slice = train_images[10:100, 0:28, 0:28]\n",
        "my_slice.shape"
      ],
      "execution_count": 32,
      "outputs": [
        {
          "output_type": "execute_result",
          "data": {
            "text/plain": [
              "(90, 28, 28)"
            ]
          },
          "metadata": {
            "tags": []
          },
          "execution_count": 32
        }
      ]
    },
    {
      "cell_type": "markdown",
      "metadata": {
        "id": "jnZ3hYzjnwv0",
        "colab_type": "text"
      },
      "source": [
        "It’s also possible to use negative indices. Much like negative indices in Python lists,\n",
        "they indicate a position relative to the end of the current axis. In order to crop the\n",
        "images to patches of 14 × 14 pixels centered in the middle, you do this:"
      ]
    },
    {
      "cell_type": "code",
      "metadata": {
        "id": "M4ZqX29Anwv1",
        "colab_type": "code",
        "colab": {
          "base_uri": "https://localhost:8080/",
          "height": 34
        },
        "outputId": "5df14fe0-4ba4-4ac7-d3b8-cfa35012dc32"
      },
      "source": [
        "my_slice = train_images[:, 7:-7, 7:-7]\n",
        "my_slice.shape"
      ],
      "execution_count": 33,
      "outputs": [
        {
          "output_type": "execute_result",
          "data": {
            "text/plain": [
              "(60000, 14, 14)"
            ]
          },
          "metadata": {
            "tags": []
          },
          "execution_count": 33
        }
      ]
    },
    {
      "cell_type": "markdown",
      "metadata": {
        "id": "32guXbQ8nwwI",
        "colab_type": "text"
      },
      "source": [
        "## 2.2.7 The notion of data batches"
      ]
    },
    {
      "cell_type": "markdown",
      "metadata": {
        "id": "fUYhC1dynww1",
        "colab_type": "text"
      },
      "source": [
        "In general, the first axis (axis 0, because indexing starts at 0) in all data tensors you’ll\n",
        "come across in deep learning will be the samples axis (sometimes called the samples\n",
        "dimension). \n",
        "-  In addition, deep-learning models don’t process an entire dataset at once; rather,\n",
        "they break the data into small batches. Concretely, here’s one batch of our MNIST digits,\n",
        "with batch size of 128:"
      ]
    },
    {
      "cell_type": "code",
      "metadata": {
        "id": "7UIV5XI6nww3",
        "colab_type": "code",
        "colab": {
          "base_uri": "https://localhost:8080/",
          "height": 850
        },
        "outputId": "34cea162-a453-4fff-8319-c79901c3b585"
      },
      "source": [
        "batch = train_images[:128]\n",
        "batch"
      ],
      "execution_count": 34,
      "outputs": [
        {
          "output_type": "execute_result",
          "data": {
            "text/plain": [
              "array([[[0, 0, 0, ..., 0, 0, 0],\n",
              "        [0, 0, 0, ..., 0, 0, 0],\n",
              "        [0, 0, 0, ..., 0, 0, 0],\n",
              "        ...,\n",
              "        [0, 0, 0, ..., 0, 0, 0],\n",
              "        [0, 0, 0, ..., 0, 0, 0],\n",
              "        [0, 0, 0, ..., 0, 0, 0]],\n",
              "\n",
              "       [[0, 0, 0, ..., 0, 0, 0],\n",
              "        [0, 0, 0, ..., 0, 0, 0],\n",
              "        [0, 0, 0, ..., 0, 0, 0],\n",
              "        ...,\n",
              "        [0, 0, 0, ..., 0, 0, 0],\n",
              "        [0, 0, 0, ..., 0, 0, 0],\n",
              "        [0, 0, 0, ..., 0, 0, 0]],\n",
              "\n",
              "       [[0, 0, 0, ..., 0, 0, 0],\n",
              "        [0, 0, 0, ..., 0, 0, 0],\n",
              "        [0, 0, 0, ..., 0, 0, 0],\n",
              "        ...,\n",
              "        [0, 0, 0, ..., 0, 0, 0],\n",
              "        [0, 0, 0, ..., 0, 0, 0],\n",
              "        [0, 0, 0, ..., 0, 0, 0]],\n",
              "\n",
              "       ...,\n",
              "\n",
              "       [[0, 0, 0, ..., 0, 0, 0],\n",
              "        [0, 0, 0, ..., 0, 0, 0],\n",
              "        [0, 0, 0, ..., 0, 0, 0],\n",
              "        ...,\n",
              "        [0, 0, 0, ..., 0, 0, 0],\n",
              "        [0, 0, 0, ..., 0, 0, 0],\n",
              "        [0, 0, 0, ..., 0, 0, 0]],\n",
              "\n",
              "       [[0, 0, 0, ..., 0, 0, 0],\n",
              "        [0, 0, 0, ..., 0, 0, 0],\n",
              "        [0, 0, 0, ..., 0, 0, 0],\n",
              "        ...,\n",
              "        [0, 0, 0, ..., 0, 0, 0],\n",
              "        [0, 0, 0, ..., 0, 0, 0],\n",
              "        [0, 0, 0, ..., 0, 0, 0]],\n",
              "\n",
              "       [[0, 0, 0, ..., 0, 0, 0],\n",
              "        [0, 0, 0, ..., 0, 0, 0],\n",
              "        [0, 0, 0, ..., 0, 0, 0],\n",
              "        ...,\n",
              "        [0, 0, 0, ..., 0, 0, 0],\n",
              "        [0, 0, 0, ..., 0, 0, 0],\n",
              "        [0, 0, 0, ..., 0, 0, 0]]], dtype=uint8)"
            ]
          },
          "metadata": {
            "tags": []
          },
          "execution_count": 34
        }
      ]
    },
    {
      "cell_type": "markdown",
      "metadata": {
        "id": "ln27zYlpnwxE",
        "colab_type": "text"
      },
      "source": [
        "And here’s the next batch:"
      ]
    },
    {
      "cell_type": "code",
      "metadata": {
        "id": "lqxXfsHFnwxZ",
        "colab_type": "code",
        "colab": {}
      },
      "source": [
        "batch = train_images[128:256]"
      ],
      "execution_count": 0,
      "outputs": []
    },
    {
      "cell_type": "markdown",
      "metadata": {
        "id": "JkqM7lT7nwyd",
        "colab_type": "text"
      },
      "source": [
        "And the nth batch:"
      ]
    },
    {
      "cell_type": "markdown",
      "metadata": {
        "id": "VFq71tzBnwyx",
        "colab_type": "raw"
      },
      "source": [
        "batch = train_images[128 * n:128 * (n + 1)]"
      ]
    },
    {
      "cell_type": "markdown",
      "metadata": {
        "id": "2Xep2hWfnwy5",
        "colab_type": "text"
      },
      "source": [
        "- <b>, the first axis (axis 0) is called the batch axis or\n",
        "batch dimension. </b>"
      ]
    },
    {
      "cell_type": "markdown",
      "metadata": {
        "id": "R5Ma-_Yfnw7g",
        "colab_type": "text"
      },
      "source": [
        "## 2.2.8 Real-world examples of data tensors"
      ]
    },
    {
      "cell_type": "markdown",
      "metadata": {
        "id": "fRJP9xdGnw7h",
        "colab_type": "text"
      },
      "source": [
        "Let’s make data tensors more concrete with a few examples similar to what you’ll\n",
        "encounter later. The data you’ll manipulate will almost always fall into one of the following\n",
        "categories:\n",
        "- <b>Vector data—2D</b> tensors of shape (samples, features)\n",
        "- <b>Timeseries data</b> or sequence data—3D tensors of shape (samples, timesteps,\n",
        "features)\n",
        "- <b>Images—4D tensors</b> of shape (samples, height, width, channels) or (samples,\n",
        "channels, height, width)\n",
        "- <b>Video—5D tensors</b> of shape (samples, frames, height, width, channels) or\n",
        "(samples, frames, channels, height, width)"
      ]
    },
    {
      "cell_type": "markdown",
      "metadata": {
        "id": "18C8IBRlnw7j",
        "colab_type": "text"
      },
      "source": [
        "## 2.2.9 Vector data"
      ]
    },
    {
      "cell_type": "markdown",
      "metadata": {
        "id": "hLH26UtCnw7l",
        "colab_type": "text"
      },
      "source": [
        "(that is, an array of\n",
        "vectors), where the first axis is the samples axis and the second axis is the features axis.\n",
        " Let’s take a look at two examples:\n",
        "-  person’s age, ZIP code,\n",
        "and income.\n",
        "    - 100,000 people can be stored in a 2D tensor of shape\n",
        "(100000, 3)\n",
        "- A dataset of text documents, where we represent each document by the counts\n",
        "of how many times each word appears in it (out of a dictionary of 20,000 common\n",
        "words). Each document can be encoded as a vector of 20,000 values (one\n",
        "count per word in the dictionary), and thus an entire dataset of 500 documents\n",
        "can be stored in a tensor of shape (500, 20000)"
      ]
    },
    {
      "cell_type": "markdown",
      "metadata": {
        "id": "dgW2ixbPnw7n",
        "colab_type": "text"
      },
      "source": [
        "## 2.2.10 Timeseries data or sequence data"
      ]
    },
    {
      "cell_type": "markdown",
      "metadata": {
        "id": "KOydHfFtnw8E",
        "colab_type": "text"
      },
      "source": [
        "Each sample can be encoded as a\n",
        "sequence of vectors (a 2D tensor), and thus a batch of data will be encoded as a 3D\n",
        "tensor (see figure 2.3).<img src='images/f2.3.png'>"
      ]
    },
    {
      "cell_type": "markdown",
      "metadata": {
        "id": "mCu0BTjOnw8F",
        "colab_type": "text"
      },
      "source": [
        "- The time axis is always the second axis (axis of index 1), by convention. Let’s look at a\n",
        "few examples:"
      ]
    },
    {
      "cell_type": "markdown",
      "metadata": {
        "id": "D3SlpO8Fnw8G",
        "colab_type": "text"
      },
      "source": [
        "- Thus every minute is encoded as a 3D vector, an entire day of trading is\n",
        "encoded as a 2D tensor of shape (390, 3) (there are 390 minutes in a trading\n",
        "day), and 250 days’ worth of data can be stored in a 3D tensor of shape (250,\n",
        "390, 3). Here, each sample would be one day’s worth of data."
      ]
    },
    {
      "cell_type": "markdown",
      "metadata": {
        "id": "-jBUrZQXnw8I",
        "colab_type": "text"
      },
      "source": [
        "- Then each tweet can be encoded\n",
        "as a 2D tensor of shape (280, 128), and a dataset of 1 million tweets can be\n",
        "stored in a tensor of shape (1000000, 280, 128).`"
      ]
    },
    {
      "cell_type": "markdown",
      "metadata": {
        "id": "vrTnSJk6nw8d",
        "colab_type": "text"
      },
      "source": [
        "## 2.2.11 Image data\n",
        "<img src='images/f2.4.png'>"
      ]
    },
    {
      "cell_type": "code",
      "metadata": {
        "id": "K66unRZinw8k",
        "colab_type": "code",
        "colab": {
          "base_uri": "https://localhost:8080/",
          "height": 5236
        },
        "outputId": "81c2e213-e518-477a-b1ee-a5920c9fbd3d"
      },
      "source": [
        "# Create Dummy Data\n",
        "image = np.random.randn(128, 256, 256, 3)\n",
        "image"
      ],
      "execution_count": 36,
      "outputs": [
        {
          "output_type": "execute_result",
          "data": {
            "text/plain": [
              "array([[[[-7.97625376e-01,  5.17658097e-01,  1.33360986e+00],\n",
              "         [-1.52389431e+00,  2.29212812e+00,  1.69026758e-01],\n",
              "         [ 2.20502336e-01, -1.13831769e+00,  1.44191534e+00],\n",
              "         ...,\n",
              "         [ 5.18354953e-01,  1.32870799e+00, -5.75498443e-01],\n",
              "         [-3.82598877e-01,  2.41479828e-01,  3.55850954e-01],\n",
              "         [-1.02485884e+00,  1.28064157e+00,  5.14953671e-01]],\n",
              "\n",
              "        [[ 5.85526482e-02,  4.70672559e-01, -4.81680178e-01],\n",
              "         [-2.29176594e+00,  2.03987454e+00, -6.08497763e-02],\n",
              "         [-5.18978888e-01, -2.01840382e-01, -8.16541918e-01],\n",
              "         ...,\n",
              "         [ 6.53130864e-01, -1.26584623e+00, -1.49055169e+00],\n",
              "         [ 7.51558869e-02, -1.43866590e+00, -4.77734513e-01],\n",
              "         [ 8.68380210e-01,  3.16225792e-01, -4.39435053e-01]],\n",
              "\n",
              "        [[-1.11061466e-01,  8.53029706e-01, -7.11282071e-01],\n",
              "         [-4.95562162e-02,  9.01149864e-01,  1.57853253e+00],\n",
              "         [-9.04644534e-01, -2.10990271e+00, -1.00675146e-01],\n",
              "         ...,\n",
              "         [ 3.49031298e-01, -2.72790197e+00,  2.16796793e-01],\n",
              "         [-1.43033003e+00,  1.36301852e+00,  2.85304584e-01],\n",
              "         [-4.70896800e-01, -1.86265296e-03,  1.99881575e-01]],\n",
              "\n",
              "        ...,\n",
              "\n",
              "        [[-9.71214324e-01,  1.93691776e+00, -1.37074898e+00],\n",
              "         [-2.82083035e-02, -1.25705401e+00,  4.58463660e-01],\n",
              "         [-5.76394705e-01, -3.70735367e-01, -2.70566473e-01],\n",
              "         ...,\n",
              "         [ 4.46816984e-02, -7.57869677e-01, -5.87954749e-01],\n",
              "         [-9.47680011e-01, -1.22965324e+00,  1.13403110e+00],\n",
              "         [ 1.12612453e+00,  1.91813325e-01,  5.97060845e-01]],\n",
              "\n",
              "        [[ 1.06109900e+00,  8.73733168e-01,  1.50822641e+00],\n",
              "         [-8.37267764e-02,  5.56527503e-01,  1.70648700e+00],\n",
              "         [ 1.09492645e-02,  4.66886320e-01, -2.97864827e-01],\n",
              "         ...,\n",
              "         [ 6.42444104e-01,  6.82615184e-01, -3.26567061e-01],\n",
              "         [-7.77691875e-01,  5.42216511e-01,  2.28333819e-01],\n",
              "         [-9.79328282e-01, -4.31428744e-01, -5.10788161e-01]],\n",
              "\n",
              "        [[-3.05354993e-01,  1.02032807e+00, -6.07328429e-01],\n",
              "         [ 8.01779248e-01,  1.28455940e+00, -9.91919306e-01],\n",
              "         [-1.19422219e+00,  1.20875164e+00, -1.33872208e+00],\n",
              "         ...,\n",
              "         [ 2.96328645e-01, -3.82462006e-01, -1.08085447e+00],\n",
              "         [ 1.74599869e+00,  2.25226080e-02, -4.40019734e-01],\n",
              "         [ 1.39851953e+00,  2.00493201e+00,  2.01814747e-01]]],\n",
              "\n",
              "\n",
              "       [[[ 1.52544441e+00,  1.03914744e-01, -1.31889319e+00],\n",
              "         [ 1.49033736e+00, -6.27660896e-01,  8.99728822e-01],\n",
              "         [ 3.17212950e-01, -1.02095382e+00, -2.01929245e-01],\n",
              "         ...,\n",
              "         [-1.17991442e+00,  1.20274930e+00,  7.16049657e-01],\n",
              "         [-3.85459872e-02,  2.01175265e-01, -5.26402427e-01],\n",
              "         [-8.52636710e-02, -7.55367594e-02,  4.23269876e-01]],\n",
              "\n",
              "        [[ 6.57908826e-01, -1.01819585e-01, -1.11561153e-01],\n",
              "         [ 2.67717607e-01,  7.19200154e-01, -9.72052923e-02],\n",
              "         [-1.64286344e+00,  6.85100616e-01,  4.21122285e-01],\n",
              "         ...,\n",
              "         [-1.06522147e+00, -1.68179244e-01, -1.15602338e+00],\n",
              "         [ 4.18532642e-02, -2.09537625e-01, -1.96514673e-02],\n",
              "         [ 1.75830683e-02, -9.47765300e-01,  3.37657747e-01]],\n",
              "\n",
              "        [[-1.30068242e+00, -7.85578704e-01, -2.78294527e-01],\n",
              "         [-3.97161807e-01,  1.42649372e+00,  2.71255355e-01],\n",
              "         [ 6.01243375e-01, -6.70740986e-01, -1.35914763e+00],\n",
              "         ...,\n",
              "         [ 7.01454559e-01, -1.05054250e+00, -2.62765142e-01],\n",
              "         [-3.68127602e-01,  2.66234043e+00, -2.29860328e-01],\n",
              "         [-7.52579201e-01,  5.42147094e-01, -1.28741011e+00]],\n",
              "\n",
              "        ...,\n",
              "\n",
              "        [[-7.28730212e-01,  7.35746739e-01,  6.10859086e-01],\n",
              "         [-1.31194245e+00, -3.44767033e-01,  1.98586696e+00],\n",
              "         [-1.51416974e+00, -9.59843383e-02, -6.54572163e-01],\n",
              "         ...,\n",
              "         [-7.56906035e-01, -1.48616519e+00, -1.90954744e+00],\n",
              "         [-1.56214842e+00,  1.07304833e+00, -6.88787011e-01],\n",
              "         [-8.93328867e-01,  4.90303116e-01,  2.35317114e-01]],\n",
              "\n",
              "        [[ 1.00232568e+00,  3.50615233e-01,  1.13702492e+00],\n",
              "         [-1.87399307e+00, -1.05684507e+00, -3.00393070e-01],\n",
              "         [-5.96998478e-02, -5.86254297e-01,  1.93860507e-01],\n",
              "         ...,\n",
              "         [-3.92430952e-01, -1.16823876e+00,  1.16253363e-01],\n",
              "         [-8.88959186e-01, -9.46695654e-02,  1.55461320e+00],\n",
              "         [-2.54406671e-01, -9.17269845e-01, -8.62348500e-01]],\n",
              "\n",
              "        [[ 2.26614532e+00,  1.01334530e+00, -1.49382815e+00],\n",
              "         [ 6.67914480e-01,  4.32977584e-01,  3.39195480e-01],\n",
              "         [ 2.02976778e-01,  4.96402964e-01,  1.07824572e+00],\n",
              "         ...,\n",
              "         [-1.09032541e+00, -1.69643100e+00,  2.08623947e-01],\n",
              "         [-3.29983017e-01, -9.15680338e-01,  4.37419028e-01],\n",
              "         [-8.20304457e-01, -4.06816966e-02, -1.08472220e+00]]],\n",
              "\n",
              "\n",
              "       [[[ 5.67339484e-01,  5.42861358e-01, -2.01292727e-01],\n",
              "         [ 1.81664486e+00,  2.54703471e-01,  2.24421433e+00],\n",
              "         [ 4.13749891e-01,  4.17508496e-01, -5.46588675e-02],\n",
              "         ...,\n",
              "         [ 6.54307341e-01, -4.60011817e-01, -2.25418153e+00],\n",
              "         [-1.75665180e+00, -6.10611417e-02, -1.64176406e+00],\n",
              "         [ 1.52865548e-01, -1.64672548e+00,  6.30137537e-01]],\n",
              "\n",
              "        [[-4.76860746e-01, -6.44764406e-01,  8.01721588e-01],\n",
              "         [-1.20629075e+00, -3.02608880e-01,  5.03168817e-01],\n",
              "         [-8.32005022e-01,  4.36628098e-01,  8.53876769e-01],\n",
              "         ...,\n",
              "         [ 1.73077399e-01,  1.42014031e+00, -9.78181642e-01],\n",
              "         [-4.14885876e-01, -8.76088240e-01,  6.95377650e-01],\n",
              "         [-4.12171130e-01,  8.26558476e-01,  7.29497260e-02]],\n",
              "\n",
              "        [[ 1.30195532e+00,  1.42084479e-02,  1.53520721e-01],\n",
              "         [ 5.11712222e-01,  1.54848569e+00, -3.31187605e-01],\n",
              "         [-3.42521284e-01, -1.04288307e+00, -9.41627827e-01],\n",
              "         ...,\n",
              "         [-4.97005980e-01, -5.82150155e-01,  7.88750558e-01],\n",
              "         [ 4.90696212e-01,  4.43528675e-01, -1.34275863e+00],\n",
              "         [ 2.83277718e+00,  1.86872036e-01,  8.90510148e-01]],\n",
              "\n",
              "        ...,\n",
              "\n",
              "        [[ 6.79352537e-01,  2.11683178e+00,  7.10235823e-01],\n",
              "         [-4.19318192e-01, -1.97739322e-01, -2.65694694e-01],\n",
              "         [-1.82701926e-02, -1.90941386e-01,  7.16362762e-01],\n",
              "         ...,\n",
              "         [ 1.56044258e+00,  5.46964237e-01,  9.24152241e-01],\n",
              "         [-1.22057781e+00, -6.16027722e-01, -1.81657958e-01],\n",
              "         [-3.19516567e-01,  1.30501699e-01, -2.75654452e-01]],\n",
              "\n",
              "        [[ 2.38490896e-01, -2.61580017e-01, -2.42307062e-01],\n",
              "         [-1.20926220e+00,  1.74466501e-01, -1.84048136e+00],\n",
              "         [-3.99142682e-01, -3.54704180e-01, -8.51811305e-02],\n",
              "         ...,\n",
              "         [-6.70400402e-01, -2.63032971e+00,  1.57377270e+00],\n",
              "         [ 7.02178963e-01, -1.41384939e-01,  5.85139905e-01],\n",
              "         [ 5.26903206e-01, -2.62732279e-01, -5.95858627e-01]],\n",
              "\n",
              "        [[-2.33287689e+00, -1.08153896e-01,  1.44677598e-01],\n",
              "         [ 6.31611388e-01, -4.51413495e-01, -1.69028632e-01],\n",
              "         [ 4.55434820e-01,  2.34545647e-01, -8.86570617e-01],\n",
              "         ...,\n",
              "         [ 1.13065936e+00,  4.32189436e-01, -6.75256782e-01],\n",
              "         [-1.09534152e+00,  3.80845805e-01, -7.38673161e-01],\n",
              "         [-2.04090619e-01, -1.05407489e-01,  6.04191456e-01]]],\n",
              "\n",
              "\n",
              "       ...,\n",
              "\n",
              "\n",
              "       [[[-1.98080511e+00,  9.52723433e-02, -2.99793360e-02],\n",
              "         [-4.60406835e-01,  7.34089691e-03, -6.70907581e-01],\n",
              "         [ 7.44769427e-01,  1.39323663e+00, -2.85324973e-01],\n",
              "         ...,\n",
              "         [ 1.81073923e-01, -1.11523802e+00,  5.64717441e-01],\n",
              "         [-1.50733199e+00, -1.34859904e+00, -1.82790847e+00],\n",
              "         [-2.67672365e-01, -1.02803256e+00, -6.93819781e-01]],\n",
              "\n",
              "        [[ 9.31434196e-01,  7.29188139e-01, -2.21346965e-01],\n",
              "         [ 8.05238428e-01,  1.03220604e+00,  7.27511663e-01],\n",
              "         [-2.24461532e-01, -3.38774759e-01,  1.08346218e+00],\n",
              "         ...,\n",
              "         [ 2.03300831e-01, -1.40135011e+00,  1.52339314e-01],\n",
              "         [ 3.75875512e-01, -1.39147830e+00,  9.18733099e-01],\n",
              "         [-6.81986552e-02, -1.10996063e+00,  2.50664372e-02]],\n",
              "\n",
              "        [[-2.10226260e+00,  1.99603986e+00,  6.62655749e-01],\n",
              "         [-6.45794188e-01,  3.19528612e-01,  3.82242362e-01],\n",
              "         [ 4.81213975e-02, -1.45685886e+00,  5.86650221e-02],\n",
              "         ...,\n",
              "         [ 2.13007204e+00, -1.30724837e+00, -9.44374002e-01],\n",
              "         [-9.99811321e-01,  6.18517055e-01, -1.28077804e+00],\n",
              "         [ 2.80377173e-01,  5.80561817e-01, -5.23746845e-01]],\n",
              "\n",
              "        ...,\n",
              "\n",
              "        [[-1.75260379e+00, -8.27205378e-01,  4.05061321e-01],\n",
              "         [-1.35601487e+00,  1.27577413e+00, -3.84179886e-01],\n",
              "         [-2.78827713e-01, -1.55909359e+00, -1.22923372e+00],\n",
              "         ...,\n",
              "         [-4.48659576e-01, -9.91797670e-01,  1.77463906e+00],\n",
              "         [ 1.29578226e+00,  1.12100149e-01, -1.35840404e+00],\n",
              "         [-1.30802251e+00, -3.58202679e-01, -3.36096024e-01]],\n",
              "\n",
              "        [[-3.48112695e-01, -2.31840189e-01, -8.75446555e-01],\n",
              "         [-8.60892689e-02, -1.09880425e-01,  2.99375460e-01],\n",
              "         [-7.95064258e-01,  7.38352521e-01,  8.80761181e-01],\n",
              "         ...,\n",
              "         [-1.34833056e-01,  1.18228154e+00, -1.07804453e-01],\n",
              "         [ 4.22885683e-01,  5.29555542e-01,  1.77620931e+00],\n",
              "         [ 6.85223687e-02, -4.83025748e-01,  8.85954493e-01]],\n",
              "\n",
              "        [[ 2.11183653e+00,  1.60211526e-01, -5.92750024e-01],\n",
              "         [ 4.78158157e-01,  1.39621257e-01,  2.00228306e+00],\n",
              "         [-2.97395719e-01, -3.52082215e-01,  1.07167393e+00],\n",
              "         ...,\n",
              "         [-1.18675003e-02,  2.07644900e+00,  1.65756485e+00],\n",
              "         [ 1.67145567e-01,  1.28357730e+00,  1.13686219e+00],\n",
              "         [ 1.23696112e-01, -9.16188213e-03, -3.38065487e-01]]],\n",
              "\n",
              "\n",
              "       [[[ 2.58901507e-01, -6.03994981e-02,  1.28634487e-01],\n",
              "         [-5.52280339e-02, -5.26544289e-01, -1.92658264e+00],\n",
              "         [-1.97229303e+00, -8.53560704e-01,  1.94466811e+00],\n",
              "         ...,\n",
              "         [-8.91712700e-01, -1.36307842e+00,  9.43750218e-01],\n",
              "         [ 1.27995455e-02, -5.91865483e-01, -1.09894779e+00],\n",
              "         [-1.43424364e-01, -1.05351515e+00,  1.39854806e-01]],\n",
              "\n",
              "        [[-9.05651816e-02,  4.94869158e-01, -4.94995083e-01],\n",
              "         [-1.18884539e+00, -1.13970984e+00,  6.49215100e-01],\n",
              "         [ 1.60479261e-02, -1.07595890e+00, -7.93461782e-01],\n",
              "         ...,\n",
              "         [ 1.23385567e+00, -2.28423455e-02, -1.49611624e+00],\n",
              "         [-8.71217855e-02, -8.43528004e-01,  2.89249212e-01],\n",
              "         [-3.72661677e-01,  8.60164508e-02,  2.04650734e+00]],\n",
              "\n",
              "        [[-2.87686446e-01, -1.12415603e-01,  8.17411643e-01],\n",
              "         [-2.48123025e-02, -8.16075647e-01, -4.59700472e-01],\n",
              "         [ 1.67451031e+00,  1.05664107e+00, -1.47686702e+00],\n",
              "         ...,\n",
              "         [-4.07658320e-01, -1.42280342e-01,  1.17967271e+00],\n",
              "         [-4.72717262e-01, -2.70184923e-01,  3.28227071e-01],\n",
              "         [ 1.86922385e-01, -1.29341716e+00,  7.74082375e-01]],\n",
              "\n",
              "        ...,\n",
              "\n",
              "        [[-7.17487827e-01, -2.56877194e+00,  9.40071397e-01],\n",
              "         [-3.57043114e-01, -2.34502718e+00, -1.61319571e-01],\n",
              "         [ 4.16809543e-02, -9.51601675e-01,  1.24541131e+00],\n",
              "         ...,\n",
              "         [ 6.77999549e-01, -4.76849037e-01,  1.02803483e-01],\n",
              "         [ 4.02366457e-01,  2.61579636e-02,  7.85628131e-01],\n",
              "         [-1.07858670e-01,  2.53597657e-01, -9.11664266e-01]],\n",
              "\n",
              "        [[ 6.37464687e-01, -1.58411335e+00,  2.94606411e-01],\n",
              "         [ 1.00078614e+00,  1.20961638e+00, -1.64030236e+00],\n",
              "         [ 4.99079597e-01,  3.15568346e-02,  7.00255081e-01],\n",
              "         ...,\n",
              "         [-9.41473027e-03,  4.90003207e-01,  7.74035630e-01],\n",
              "         [-1.92962009e-01,  7.11583486e-01,  1.03497539e+00],\n",
              "         [-2.18337507e+00,  9.76392594e-02, -6.50106711e-01]],\n",
              "\n",
              "        [[-7.35880911e-01,  6.08660096e-01,  2.35343494e+00],\n",
              "         [ 1.33144870e+00, -1.24086644e+00, -5.55611442e-02],\n",
              "         [ 2.19250251e-01, -1.79905515e+00,  2.43689430e-01],\n",
              "         ...,\n",
              "         [-9.60280150e-01,  3.52251073e-01,  1.81094823e+00],\n",
              "         [-7.17352312e-03, -1.58526847e+00, -6.44419982e-01],\n",
              "         [-6.62853950e-01, -4.00318582e-01, -1.58434558e+00]]],\n",
              "\n",
              "\n",
              "       [[[-1.82596611e-01, -3.43522423e-01,  2.15292733e-01],\n",
              "         [ 7.55716397e-01, -9.17843103e-01, -3.06744857e-01],\n",
              "         [ 1.83145029e-01,  1.34365058e+00,  4.98613962e-01],\n",
              "         ...,\n",
              "         [ 2.55636164e-01,  8.68200241e-01,  8.86716813e-02],\n",
              "         [-5.99741507e-01, -2.27275885e-01, -1.46094851e+00],\n",
              "         [-6.31533244e-02,  1.63620363e+00,  5.74886764e-02]],\n",
              "\n",
              "        [[-1.54954199e+00, -7.17227132e-01,  6.33706631e-01],\n",
              "         [-2.06994244e-01,  1.24006926e+00, -9.58572015e-01],\n",
              "         [-3.03989602e-01, -6.05498126e-01, -9.80996345e-01],\n",
              "         ...,\n",
              "         [ 9.83401680e-01, -8.63859883e-01, -7.56537677e-01],\n",
              "         [ 1.87627316e+00,  1.76248261e+00, -1.35119565e+00],\n",
              "         [-1.31422579e+00,  4.64480675e-01, -2.19879081e-01]],\n",
              "\n",
              "        [[-2.60806783e-02,  1.67644848e-01, -3.03824869e-01],\n",
              "         [ 7.29441063e-01, -3.33390836e-01,  9.05226718e-01],\n",
              "         [ 1.60547095e-01,  1.11530750e+00, -4.79201683e-01],\n",
              "         ...,\n",
              "         [ 2.73145840e+00, -1.40735040e+00, -5.40540387e-01],\n",
              "         [ 1.55300650e+00, -9.72903380e-01, -1.59763020e-01],\n",
              "         [-8.22537121e-01,  7.81678349e-02,  9.42302686e-01]],\n",
              "\n",
              "        ...,\n",
              "\n",
              "        [[ 5.42189427e-01, -1.18632711e+00, -8.26780161e-01],\n",
              "         [ 9.25904466e-01,  1.56386905e+00,  1.28938124e+00],\n",
              "         [-1.20494701e+00, -5.37524897e-01,  7.84554401e-01],\n",
              "         ...,\n",
              "         [-1.02446204e+00,  7.58686077e-01, -8.76675836e-01],\n",
              "         [ 1.56268405e+00,  8.09035359e-01, -2.00048509e+00],\n",
              "         [-5.88461085e-01,  1.06411382e+00, -1.33384840e+00]],\n",
              "\n",
              "        [[-1.02364550e+00, -1.78372317e+00,  3.77265252e-01],\n",
              "         [-1.58639406e-02, -8.25564668e-01, -1.44837153e+00],\n",
              "         [-7.98523625e-01, -6.93477519e-01,  2.95075823e-01],\n",
              "         ...,\n",
              "         [ 7.81214656e-01,  2.05557158e+00, -8.35388325e-01],\n",
              "         [ 1.16170693e+00, -7.83614410e-01,  8.25673381e-02],\n",
              "         [ 6.84440749e-01, -2.75247713e-01,  1.30062653e+00]],\n",
              "\n",
              "        [[ 1.72271924e-01,  1.79986257e+00,  1.48400767e-01],\n",
              "         [ 7.30602552e-01, -2.19541116e+00,  7.14768633e-01],\n",
              "         [-8.30103809e-01,  1.55906952e+00, -1.35424634e+00],\n",
              "         ...,\n",
              "         [ 6.29419039e-02, -1.16271405e+00, -5.21855480e-01],\n",
              "         [-1.57573186e+00, -9.13073849e-01, -9.21251701e-01],\n",
              "         [-6.39529868e-01,  7.43333782e-01,  1.67675202e-01]]]])"
            ]
          },
          "metadata": {
            "tags": []
          },
          "execution_count": 36
        }
      ]
    },
    {
      "cell_type": "markdown",
      "metadata": {
        "id": "9qz80zsCnw8x",
        "colab_type": "text"
      },
      "source": [
        "- height, width, and color depth.\n",
        "- samples, width,height,chanel (TensorFlow)\n"
      ]
    },
    {
      "cell_type": "code",
      "metadata": {
        "id": "m5G6KkWVnw8z",
        "colab_type": "code",
        "colab": {},
        "outputId": "6ad99753-7a3d-474e-f54f-474f758a3efb"
      },
      "source": [
        "data = np.random.randn(128, 256, 256, 3)\n",
        "data[:1]"
      ],
      "execution_count": 0,
      "outputs": [
        {
          "output_type": "execute_result",
          "data": {
            "text/plain": [
              "array([[[[ 8.74400898e-01, -9.90121448e-01, -1.76636264e-01],\n",
              "         [-1.15917176e+00,  2.53954377e-01, -2.58889897e-01],\n",
              "         [-2.05628335e-01, -7.43644848e-01, -6.59344659e-01],\n",
              "         ...,\n",
              "         [-8.73010106e-01,  1.55490340e-01,  5.18543093e-01],\n",
              "         [ 5.59714364e-01,  1.31429862e+00,  5.59741026e-04],\n",
              "         [ 2.22685952e+00,  7.12551490e-02,  4.63389747e-01]],\n",
              "\n",
              "        [[ 9.51184166e-01, -2.72024644e+00, -5.49499661e-02],\n",
              "         [ 1.84987802e+00, -1.88552181e+00,  7.93080859e-02],\n",
              "         [-8.80184181e-01, -7.79511969e-01, -6.52347134e-01],\n",
              "         ...,\n",
              "         [ 2.04100987e+00, -4.51602178e-01, -1.72730234e+00],\n",
              "         [ 7.15548576e-01, -6.36670700e-01,  5.93138764e-01],\n",
              "         [ 9.08668442e-01,  6.80581650e-01,  8.67073730e-01]],\n",
              "\n",
              "        [[ 9.36694692e-01, -5.56619285e-01,  1.71706682e+00],\n",
              "         [-1.16186440e+00, -6.60247330e-01,  6.26163179e-01],\n",
              "         [ 4.42788289e-01,  5.91328107e-01, -2.87284012e-01],\n",
              "         ...,\n",
              "         [-9.29765095e-01,  3.88143641e-01, -7.93946071e-01],\n",
              "         [ 6.22494583e-01,  1.18839188e-01,  2.58630256e-01],\n",
              "         [ 1.07186545e+00, -8.93914580e-01,  6.91632493e-01]],\n",
              "\n",
              "        ...,\n",
              "\n",
              "        [[-9.56229871e-01,  1.25649301e+00, -8.30755976e-01],\n",
              "         [ 6.21510194e-01, -1.01293966e-01, -6.83472893e-01],\n",
              "         [ 5.37492546e-01,  1.34121147e+00,  1.63046679e+00],\n",
              "         ...,\n",
              "         [-9.33630955e-02, -2.34364983e-01, -1.92350300e+00],\n",
              "         [ 7.25675988e-01,  5.26518554e-02,  2.08379115e+00],\n",
              "         [ 7.93430629e-01, -8.33808431e-01, -1.27347116e+00]],\n",
              "\n",
              "        [[ 1.26361320e+00, -9.40812242e-01,  3.87141455e-01],\n",
              "         [-1.12789715e-01, -1.10345599e+00, -1.79026708e-01],\n",
              "         [ 3.82475891e-01,  1.01044327e+00, -2.52072244e-01],\n",
              "         ...,\n",
              "         [-1.27437185e+00,  5.04651930e-01, -1.18912930e+00],\n",
              "         [ 1.09715221e+00,  8.13940614e-01, -9.56463788e-01],\n",
              "         [-8.01222311e-01,  6.34259833e-01, -6.75589436e-01]],\n",
              "\n",
              "        [[-8.40077820e-01, -1.54464988e-01,  2.03132619e+00],\n",
              "         [ 7.58194018e-01, -6.20343960e-01,  4.47831621e-01],\n",
              "         [-1.31981767e+00, -6.49606323e-01, -8.84885427e-01],\n",
              "         ...,\n",
              "         [-5.07568078e-01,  4.36928785e-01,  1.34064526e+00],\n",
              "         [-6.25728313e-01, -2.03316157e-02,  8.36277962e-02],\n",
              "         [-8.25734366e-01,  1.46860618e+00, -5.18633282e-01]]]])"
            ]
          },
          "metadata": {
            "tags": []
          },
          "execution_count": 31
        }
      ]
    },
    {
      "cell_type": "markdown",
      "metadata": {
        "id": "0gZtTYignw-W",
        "colab_type": "text"
      },
      "source": [
        "## 2.2.12 Video data"
      ]
    },
    {
      "cell_type": "markdown",
      "metadata": {
        "id": "zibFtVpLnw-f",
        "colab_type": "text"
      },
      "source": [
        "- (samples, frames, height, width, color_depth)"
      ]
    },
    {
      "cell_type": "markdown",
      "metadata": {
        "id": "1RrrXt5tnw-2",
        "colab_type": "text"
      },
      "source": [
        "# 2.3 The gears of neural networks: tensor operations"
      ]
    },
    {
      "cell_type": "markdown",
      "metadata": {
        "id": "QUOfupeInw-_",
        "colab_type": "text"
      },
      "source": [
        " In our initial example, we were building our network by stacking Dense layers on\n",
        "top of each other. A Keras layer instance looks like this:"
      ]
    },
    {
      "cell_type": "code",
      "metadata": {
        "id": "d5Gc28N5nw_G",
        "colab_type": "code",
        "colab": {},
        "outputId": "95a5c55c-6ec4-43c3-e102-38c15936b27f"
      },
      "source": [
        "import keras\n",
        "keras.layers.Dense(512, activation='relu')"
      ],
      "execution_count": 0,
      "outputs": [
        {
          "output_type": "execute_result",
          "data": {
            "text/plain": [
              "<keras.layers.core.Dense at 0x21792274a90>"
            ]
          },
          "metadata": {
            "tags": []
          },
          "execution_count": 32
        }
      ]
    },
    {
      "cell_type": "code",
      "metadata": {
        "id": "4zZPxi3vnxBF",
        "colab_type": "code",
        "colab": {}
      },
      "source": [
        "def naive_relu(x):\n",
        "    assert len(x.shape) == 2\n",
        "    x = x.copy()\n",
        "    for i in range(x.shape[0]):\n",
        "        for j in range(x.shape[1]):\n",
        "            x[i, j] = max(x[i, j], 0)\n",
        "    return x"
      ],
      "execution_count": 0,
      "outputs": []
    },
    {
      "cell_type": "code",
      "metadata": {
        "id": "UHt0cOeFnxBM",
        "colab_type": "code",
        "colab": {}
      },
      "source": [
        "def naive_add(x, y):\n",
        "    assert len(x.shape) == 2\n",
        "    assert x.shape == y.shape\n",
        "    \n",
        "    x = x.copy()\n",
        "    for i in range(x.shape[0]):\n",
        "        for j in range(x.shape[1]):\n",
        "            x[i, j] += y[i, j]\n",
        "    return x"
      ],
      "execution_count": 0,
      "outputs": []
    },
    {
      "cell_type": "markdown",
      "metadata": {
        "id": "-8wnWOw2nxBg",
        "colab_type": "text"
      },
      "source": [
        "So, in Numpy, you can do the following element-wise operation, and it will be blazing\n",
        "fast:\n"
      ]
    },
    {
      "cell_type": "markdown",
      "metadata": {
        "id": "LurfkpWWnxBi",
        "colab_type": "raw"
      },
      "source": [
        "import numpy as np\n",
        "z=x+y\n",
        "z = np.maximum(z, 0.)"
      ]
    },
    {
      "cell_type": "markdown",
      "metadata": {
        "id": "flAqYtcknxBl",
        "colab_type": "text"
      },
      "source": [
        "# 2.3.2 Broadcasting"
      ]
    },
    {
      "cell_type": "markdown",
      "metadata": {
        "id": "Uo_HYj03nxBo",
        "colab_type": "text"
      },
      "source": [
        "the smaller tensor will be broadcasted to\n",
        "match the shape of the larger tensor.\n",
        "- Axes (called broadcast axes) are added to the smaller tensor to match the ndim of\n",
        "the larger tensor.\n",
        "- Axes (called broadcast axes) are added to the smaller tensor to match the ndim of\n",
        "the larger tensor.\n",
        "    - `X shape (32,10) <br> y shape (10,)<br> (1,10)<br>(32, 10), where Y[i, :] == y for i in range(0, 32)"
      ]
    },
    {
      "cell_type": "code",
      "metadata": {
        "id": "_wOGpe5gnxBq",
        "colab_type": "code",
        "colab": {}
      },
      "source": [
        "def naive_add_matrix_and_vector(x, y):\n",
        "    assert len(x.shape) == 2\n",
        "    assert len(y.shape) == 1\n",
        "    assert x.shape[1] == y.shape[0]\n",
        "    x = x.copy()\n",
        "    for i in range(x.shape[0]):\n",
        "        for j in range(x.shape[1]):\n",
        "            x[i, j] += y[j]\n",
        "    return x"
      ],
      "execution_count": 0,
      "outputs": []
    },
    {
      "cell_type": "code",
      "metadata": {
        "id": "4jb7ABcFnxB0",
        "colab_type": "code",
        "colab": {}
      },
      "source": [
        "import numpy as np\n",
        "x = np.random.random((64, 3, 32, 10))\n",
        "y = np.random.random((32, 10))\n",
        "z = np.maximum(x, y)\n"
      ],
      "execution_count": 0,
      "outputs": []
    },
    {
      "cell_type": "markdown",
      "metadata": {
        "id": "Rd1jBpm2nxB7",
        "colab_type": "text"
      },
      "source": [
        "The output z has shape\n",
        "(64, 3, 32, 10) like x."
      ]
    },
    {
      "cell_type": "markdown",
      "metadata": {
        "id": "J6U7_1hrnxB9",
        "colab_type": "text"
      },
      "source": [
        "## 2.3.3 Tensor dot"
      ]
    },
    {
      "cell_type": "markdown",
      "metadata": {
        "id": "6pVWAXf6nxB_",
        "colab_type": "text"
      },
      "source": [
        "The dot operation, also called a tensor product (not to be confused with an elementwise\n",
        "product) is the most common"
      ]
    },
    {
      "cell_type": "code",
      "metadata": {
        "id": "ZanZz1L_nxCA",
        "colab_type": "code",
        "colab": {
          "base_uri": "https://localhost:8080/",
          "height": 102
        },
        "outputId": "b4e171d2-dc09-4b1e-f7be-6da4810bebd8"
      },
      "source": [
        "import numpy as np\n",
        "x = np.random.randn(10)\n",
        "y = np.random.randn(10)\n",
        "z = np.dot(x, y)\n",
        "print(x)\n",
        "print(y,\"In mathematical notation, you’d note the operation with a dot (.):\")\n",
        "z"
      ],
      "execution_count": 41,
      "outputs": [
        {
          "output_type": "stream",
          "text": [
            "[-1.15658615  0.68076689  0.01687951 -1.13046371  2.02489112  0.29680411\n",
            " -0.39463399 -0.57273265 -0.02674086  0.50120435]\n",
            "[ 0.37059656 -0.77626328 -0.07474257 -1.71817935 -0.49937689 -1.17446747\n",
            " -0.98534498  0.39295525  0.47522854 -1.29587139] In mathematical notation, you’d note the operation with a dot (.):\n"
          ],
          "name": "stdout"
        },
        {
          "output_type": "execute_result",
          "data": {
            "text/plain": [
              "-0.8741860745209995"
            ]
          },
          "metadata": {
            "tags": []
          },
          "execution_count": 41
        }
      ]
    },
    {
      "cell_type": "markdown",
      "metadata": {
        "id": "f2Vc2RFbnxCP",
        "colab_type": "text"
      },
      "source": [
        "In mathematical notation, you’d note the operation with a dot (.):"
      ]
    },
    {
      "cell_type": "code",
      "metadata": {
        "id": "sHJ72WuYnxCQ",
        "colab_type": "code",
        "colab": {}
      },
      "source": [
        "# z = x . y\n",
        "\n",
        "def naive_vector_dot(x, y):\n",
        "    assert len(x.shape) == 1\n",
        "    assert len(y.shape) == 1\n",
        "    assert x.shape[0] == y.shape[0]\n",
        "    \n",
        "    z = 0.\n",
        "    for i in range(x.shape[0]):\n",
        "        z += x[i] * y[i]\n",
        "    return z\n"
      ],
      "execution_count": 0,
      "outputs": []
    },
    {
      "cell_type": "code",
      "metadata": {
        "id": "BHhpDLOynxCa",
        "colab_type": "code",
        "colab": {}
      },
      "source": [
        "import numpy as np\n",
        "def naive_matrix_vector_dot(x, y):\n",
        "    assert len(x.shape) == 2\n",
        "    assert len(y.shape) == 1\n",
        "    assert x.shape[1] == y.shape[0]\n",
        "    z = np.zeros(x.shape[0])\n",
        "    for i in range(x.shape[0]):\n",
        "        for j in range(x.shape[1]):\n",
        "            z[i] += x[i, j] * y[j]\n",
        "    return z"
      ],
      "execution_count": 0,
      "outputs": []
    },
    {
      "cell_type": "markdown",
      "metadata": {
        "id": "LDoNLWF1nxDT",
        "colab_type": "text"
      },
      "source": [
        "You could also reuse the code we wrote previously, which highlights the relationship\n",
        "between a matrix-vector product and a vector product:"
      ]
    },
    {
      "cell_type": "code",
      "metadata": {
        "id": "2hIYifaUnxDX",
        "colab_type": "code",
        "colab": {}
      },
      "source": [
        "def naive_matrix_vector_dot(x, y):\n",
        "    z = np.zeros(x.shape[0])\n",
        "    for i in range(x.shape[0]):\n",
        "        z[i] = naive_vector_dot(x[i, :], y)\n",
        "    return z"
      ],
      "execution_count": 0,
      "outputs": []
    },
    {
      "cell_type": "code",
      "metadata": {
        "id": "q5mfPmz6nxDu",
        "colab_type": "code",
        "colab": {}
      },
      "source": [
        "def naive_matrix_dot(x, y):\n",
        "    assert len(x.shape) == 2\n",
        "    assert len(y.shape) == 2\n",
        "    assert x.shape[1] == y.shape[0]\n",
        "    z = np.zeros((x.shape[0], y.shape[1]))\n",
        "    for i in range(x.shape[0]):\n",
        "        for j in range(y.shape[1]):\n",
        "            row_x = x[i, :]\n",
        "            column_y = y[:, j]\n",
        "            z[i, j] = naive_vector_dot(row_x, column_y)\n",
        "    return z"
      ],
      "execution_count": 0,
      "outputs": []
    },
    {
      "cell_type": "markdown",
      "metadata": {
        "id": "1XNHs1YjnxD3",
        "colab_type": "text"
      },
      "source": [
        "<img src='images/f2.5.png'>"
      ]
    },
    {
      "cell_type": "markdown",
      "metadata": {
        "id": "BopD2HKWnxD5",
        "colab_type": "text"
      },
      "source": [
        "More generally, you can take the dot product between higher-dimensional tensors,\n",
        "following the same rules for shape compatibility as outlined earlier for the 2D case:\n",
        "```\n",
        "(a, b, c, d) . (d,) -> (a, b, c)\n",
        "(a, b, c, d) . (d, e) -> (a, b, c, e)\n",
        "```"
      ]
    },
    {
      "cell_type": "markdown",
      "metadata": {
        "id": "Auf0-EqJnxD-",
        "colab_type": "text"
      },
      "source": [
        "## 2.3.4 Tensor reshaping"
      ]
    },
    {
      "cell_type": "markdown",
      "metadata": {
        "id": "6TZuhBstnxEF",
        "colab_type": "text"
      },
      "source": [
        " preprocessed the digits data before feeding it into our network\n",
        "```train_images = train_images.reshape((60000, 28 * 28)) ```"
      ]
    },
    {
      "cell_type": "code",
      "metadata": {
        "id": "0dlk0Q5znxEH",
        "colab_type": "code",
        "colab": {}
      },
      "source": [
        "x = np.array([[0., 1.],\n",
        "[2., 3.],\n",
        "[4., 5.]])"
      ],
      "execution_count": 0,
      "outputs": []
    },
    {
      "cell_type": "code",
      "metadata": {
        "id": "wg7US9mUnxEV",
        "colab_type": "code",
        "colab": {
          "base_uri": "https://localhost:8080/",
          "height": 34
        },
        "outputId": "ee392de9-d873-484a-e10e-0360c4639a72"
      },
      "source": [
        " print(x.shape)"
      ],
      "execution_count": 47,
      "outputs": [
        {
          "output_type": "stream",
          "text": [
            "(3, 2)\n"
          ],
          "name": "stdout"
        }
      ]
    },
    {
      "cell_type": "code",
      "metadata": {
        "id": "a-EEa4G-nxFX",
        "colab_type": "code",
        "colab": {
          "base_uri": "https://localhost:8080/",
          "height": 34
        },
        "outputId": "7685c5c7-029e-45a9-da4b-a18b571ab22b"
      },
      "source": [
        "x = x.reshape(1,6)\n",
        "x"
      ],
      "execution_count": 48,
      "outputs": [
        {
          "output_type": "execute_result",
          "data": {
            "text/plain": [
              "array([[0., 1., 2., 3., 4., 5.]])"
            ]
          },
          "metadata": {
            "tags": []
          },
          "execution_count": 48
        }
      ]
    },
    {
      "cell_type": "code",
      "metadata": {
        "id": "oHus6WxUnxFg",
        "colab_type": "code",
        "colab": {
          "base_uri": "https://localhost:8080/",
          "height": 119
        },
        "outputId": "61f70385-39f4-4046-a9b5-2815c8d4f259"
      },
      "source": [
        "x = x.reshape(6,1)\n",
        "x"
      ],
      "execution_count": 49,
      "outputs": [
        {
          "output_type": "execute_result",
          "data": {
            "text/plain": [
              "array([[0.],\n",
              "       [1.],\n",
              "       [2.],\n",
              "       [3.],\n",
              "       [4.],\n",
              "       [5.]])"
            ]
          },
          "metadata": {
            "tags": []
          },
          "execution_count": 49
        }
      ]
    },
    {
      "cell_type": "code",
      "metadata": {
        "id": "JMy1NfQvnxFs",
        "colab_type": "code",
        "colab": {
          "base_uri": "https://localhost:8080/",
          "height": 34
        },
        "outputId": "a9de72da-ad25-4014-8b87-f8cade83ce33"
      },
      "source": [
        "x = np.zeros((300, 20))\n",
        "x = np.transpose(x)\n",
        "print(x.shape)"
      ],
      "execution_count": 50,
      "outputs": [
        {
          "output_type": "stream",
          "text": [
            "(20, 300)\n"
          ],
          "name": "stdout"
        }
      ]
    },
    {
      "cell_type": "markdown",
      "metadata": {
        "id": "QRF1fQN1nxF0",
        "colab_type": "text"
      },
      "source": [
        "## Geometric interpretation of tensor operations"
      ]
    },
    {
      "cell_type": "markdown",
      "metadata": {
        "id": "nlL1x1KonxF2",
        "colab_type": "text"
      },
      "source": [
        "For instance, let’s consider addition. We’ll start with the following\n",
        "vector:\n",
        "` A = [0.5, 1]`\n",
        "<img src='images/f2.6.png'>"
      ]
    },
    {
      "cell_type": "markdown",
      "metadata": {
        "id": "mBxQUs2BnxF4",
        "colab_type": "text"
      },
      "source": [
        "Let’s consider a new point, B = [1, 0.25],\n",
        " the resulting location\n",
        "being the vector representing the sum of the previous two vectors (see figure 2.8).<img src='images/f2.8.png'>"
      ]
    },
    {
      "cell_type": "markdown",
      "metadata": {
        "id": "IMnV9S-HnxF5",
        "colab_type": "text"
      },
      "source": [
        "In general, elementary geometric operations such as affine transformations, rotations,\n",
        "scaling, and so on can be expressed as tensor operations. For instance, a rotation of a\n",
        "2D vector by an angle theta can be achieved via a dot product with a 2 × 2 matrix\n",
        "R = [u, v], where u and v are both vectors of the plane: u = [cos(theta),\n",
        "sin(theta)] and v = [-sin(theta), cos(theta)]. "
      ]
    },
    {
      "cell_type": "markdown",
      "metadata": {
        "id": "YifiF862nxGE",
        "colab_type": "text"
      },
      "source": [
        "## 2.3.6 A geometric interpretation of deep learning"
      ]
    },
    {
      "cell_type": "markdown",
      "metadata": {
        "id": "0Ui3wcXBnxGF",
        "colab_type": "text"
      },
      "source": [
        "<img src='images/f2.9.png'>\n",
        " Each layer in a deep network applies a transformation that\n",
        "disentangles the data a little—and a deep stack of layers makes tractable an extremely\n",
        "complicated disentanglement process. "
      ]
    },
    {
      "cell_type": "markdown",
      "metadata": {
        "id": "RM7o_jVGnxGI",
        "colab_type": "text"
      },
      "source": [
        "## 2.4 The engine of neural networks:<br>gradient-based optimization"
      ]
    },
    {
      "cell_type": "markdown",
      "metadata": {
        "id": "oL6VVuShnxGP",
        "colab_type": "raw"
      },
      "source": [
        "This happens within what’s called a training loop, which works as follows. Repeat\n",
        "these steps in a loop, as long as necessary:\n",
        "1 Draw a batch of training samples x and corresponding targets y.\n",
        "2 Run the network on x (a step called the forward pass) to obtain predictions y_pred.\n",
        "3 Compute the loss of the network on the batch, a measure of the mismatch\n",
        "between y_pred and y.\n",
        "4 Update all weights of the network in a way that slightly reduces the loss on this\n",
        "batch."
      ]
    },
    {
      "cell_type": "markdown",
      "metadata": {
        "id": "uLcI686fnxGQ",
        "colab_type": "text"
      },
      "source": [
        "## 2.4.1 What’s a derivative?"
      ]
    },
    {
      "cell_type": "markdown",
      "metadata": {
        "id": "RUSuHnk4nxGS",
        "colab_type": "text"
      },
      "source": [
        "```\n",
        "f(x + epsilon_x) = y + epsilon_y\n",
        "f(x + epsilon_x) = y + a * epsilon_x\n",
        "```\n",
        "Obviously, this linear approximation is valid only when x is close enough to p.\n",
        " The slope a is called the derivative of f in p. If a is negative, it means a small change\n",
        "of x around p will result in a decrease of f(x) (as shown in figure 2.10); and if a is positive,\n",
        "a small change in x will result in an increase of f(x). Further, the absolute value\n",
        "of a (the magnitude of the derivative) tells you how quickly this increase or decrease\n",
        "will happen.\n",
        "<img src='images/f2.10.png'>\n",
        " If you’re trying to update x by a factor epsilon_x in order to minimize f(x), and\n",
        "you know the derivative of f, then your job is done: the derivative completely\n",
        "describes how f(x) evolves as you change x. If you want to reduce the value of f(x),\n",
        "you just need to move x a little in the opposite direction from the derivative. "
      ]
    },
    {
      "cell_type": "markdown",
      "metadata": {
        "id": "nwycLFRbnxGV",
        "colab_type": "text"
      },
      "source": [
        "## 2.4.2 Derivative of a tensor operation: the gradient"
      ]
    },
    {
      "cell_type": "markdown",
      "metadata": {
        "id": "o_F25qEGnxGf",
        "colab_type": "text"
      },
      "source": [
        " Consider an input vector x, a matrix W, a target y, and a loss function loss. You can\n",
        "use W to compute a target candidate y_pred, and compute the loss, or mismatch,\n",
        "between the target candidate y_pred and the target y:\n",
        "<br>`y_pred = dot(W, x)`<br>\n",
        "`loss_value = loss(y_pred, y)`<br>\n",
        "If the data inputs x and y are frozen, then this can be interpreted as a function mapping\n",
        "values of W to loss values:<br>\n",
        "`loss_value = f(W)`"
      ]
    },
    {
      "cell_type": "markdown",
      "metadata": {
        "id": "UJBpMDsXnxGh",
        "colab_type": "text"
      },
      "source": [
        "## 2.4.3 Stochastic gradient descent"
      ]
    },
    {
      "cell_type": "markdown",
      "metadata": {
        "id": "M9v7d-8pnxGi",
        "colab_type": "text"
      },
      "source": [
        "1. Draw a batch of training samples x and corresponding targets y.\n",
        "2. Run the network on x to obtain predictions y_pred.\n",
        "3. Compute the loss of the network on the batch, a measure of the mismatch\n",
        "between y_pred and y.\n",
        "4. Compute the gradient of the loss with regard to the network’s parameters (a\n",
        "backward pass).\n",
        "5. Move the parameters a little in the opposite direction from the gradient—for\n",
        "example W -= step * gradient—thus reducing the loss on the batch a bit.\n",
        "<img src='images/f2.11.png'>\n",
        "<img src='images/f2.12.png'>\n",
        "<img src='images/f2.13.png'>"
      ]
    },
    {
      "cell_type": "markdown",
      "metadata": {
        "id": "34zT5xt6nxGw",
        "colab_type": "raw"
      },
      "source": [
        "past_velocity = 0.\n",
        "momentum = 0.1\n",
        "while loss > 0.01:\n",
        "    w, loss, gradient = get_current_parameters()\n",
        "    velocity = past_velocity * momentum + learning_rate * gradient\n",
        "    w=w+ momentum * velocity - learning_rate * gradient\n",
        "    past_velocity = velocity\n",
        "    update_parameter(w)"
      ]
    },
    {
      "cell_type": "markdown",
      "metadata": {
        "id": "sbPJNGzanxGx",
        "colab_type": "text"
      },
      "source": [
        "## 2.4.4 Chaining derivatives: the Backpropagation algorithm"
      ]
    },
    {
      "cell_type": "markdown",
      "metadata": {
        "id": "uPpJrbq3nxG0",
        "colab_type": "text"
      },
      "source": [
        "three tensor operations,\n",
        "a, b, and c, with weight matrices W1, W2, and W3:\n",
        "`f(W1, W2, W3) = a(W1, b(W2, c(W3)))`\n",
        "Calculus tells us that such a chain of functions can be derived using the following identity,\n",
        "called the chain rule: `f(g(x)) = f'(g(x)) * g'(x)`. Applying the chain rule to the\n",
        "computation of the gradient values of a neural network gives rise to an algorithm\n",
        "called Backpropagation (also sometimes called reverse-mode differentiation). Backpropagation\n",
        "starts with the final loss value and works backward from the top layers to the bottom\n",
        "layers, applying the chain rule to compute the contribution that each parameter\n",
        "had in the loss value."
      ]
    },
    {
      "cell_type": "markdown",
      "metadata": {
        "id": "z6DwmlrKnxG1",
        "colab_type": "text"
      },
      "source": [
        "## 2.5 Looking back at our first example"
      ]
    },
    {
      "cell_type": "markdown",
      "metadata": {
        "id": "rqTqLbgynxG2",
        "colab_type": "text"
      },
      "source": [
        "You’ve reached the end of this chapter, and you should now have a general understanding\n",
        "of what’s going on behind the scenes in a neural network. Let’s go back to\n",
        "the first example and review each piece of it in the light of what you’ve learned in the\n",
        "previous three sections.\n",
        " This was the input data:\n"
      ]
    },
    {
      "cell_type": "code",
      "metadata": {
        "id": "Y6p1fHh4nxG3",
        "colab_type": "code",
        "colab": {}
      },
      "source": [
        "(train_images, train_labels), (test_images, test_labels) = mnist.load_data()\n",
        "train_images = train_images.reshape((60000, 28 * 28))\n",
        "train_images = train_images.astype('float32') / 255\n",
        "test_images = test_images.reshape((10000, 28 * 28))\n",
        "test_images = test_images.astype('float32') / 255\n",
        "\n",
        "\n",
        "from keras.utils import to_categorical\n",
        "train_labels = to_categorical(train_labels)\n",
        "test_labels = to_categorical(test_labels)"
      ],
      "execution_count": 0,
      "outputs": []
    },
    {
      "cell_type": "markdown",
      "metadata": {
        "id": "ca8afl-KnxLc",
        "colab_type": "text"
      },
      "source": [
        "Now you understand that the input images are stored in Numpy tensors, which are\n",
        "here formatted as float32 tensors of shape (60000, 784) (training data) and (10000,\n",
        "784) (test data), respectively.\n",
        " This was our network:"
      ]
    },
    {
      "cell_type": "code",
      "metadata": {
        "id": "kHzZ68CAnxLd",
        "colab_type": "code",
        "colab": {}
      },
      "source": [
        "network = models.Sequential()\n",
        "network.add(layers.Dense(512, activation='relu', input_shape=(28 * 28,)))\n",
        "network.add(layers.Dense(10, activation='softmax'))"
      ],
      "execution_count": 0,
      "outputs": []
    },
    {
      "cell_type": "markdown",
      "metadata": {
        "id": "PziF3GPfnxLw",
        "colab_type": "text"
      },
      "source": [
        "Now you understand that this network consists of a chain of two Dense layers, that\n",
        "each layer applies a few simple tensor operations to the input data, and that these\n",
        "operations involve weight tensors. Weight tensors, which are attributes of the layers,\n",
        "are where the knowledge of the network persists.\n",
        " This was the network-compilation step:\n"
      ]
    },
    {
      "cell_type": "code",
      "metadata": {
        "id": "AyGVxPA5nxLy",
        "colab_type": "code",
        "colab": {}
      },
      "source": [
        "network.compile(optimizer='rmsprop',\n",
        "                loss='categorical_crossentropy',\n",
        "                metrics=['accuracy'])\n"
      ],
      "execution_count": 0,
      "outputs": []
    },
    {
      "cell_type": "code",
      "metadata": {
        "id": "eqSwiVH2nxMI",
        "colab_type": "code",
        "colab": {
          "base_uri": "https://localhost:8080/",
          "height": 275
        },
        "outputId": "568ba7bf-5290-426c-80e8-9a9ace1ca06a"
      },
      "source": [
        "network.fit(train_images, train_labels, epochs=5, batch_size=128)\n",
        "#train_images.shape\n",
        "#train_labels.shape"
      ],
      "execution_count": 55,
      "outputs": [
        {
          "output_type": "stream",
          "text": [
            "WARNING:tensorflow:From /usr/local/lib/python3.6/dist-packages/tensorflow/python/ops/math_ops.py:3066: to_int32 (from tensorflow.python.ops.math_ops) is deprecated and will be removed in a future version.\n",
            "Instructions for updating:\n",
            "Use tf.cast instead.\n",
            "Epoch 1/5\n",
            "60000/60000 [==============================] - 6s 96us/step - loss: 0.2557 - acc: 0.9264\n",
            "Epoch 2/5\n",
            "60000/60000 [==============================] - 5s 84us/step - loss: 0.1038 - acc: 0.9692\n",
            "Epoch 3/5\n",
            "60000/60000 [==============================] - 5s 84us/step - loss: 0.0686 - acc: 0.9798\n",
            "Epoch 4/5\n",
            "60000/60000 [==============================] - 5s 84us/step - loss: 0.0498 - acc: 0.9853\n",
            "Epoch 5/5\n",
            "60000/60000 [==============================] - 5s 83us/step - loss: 0.0369 - acc: 0.9891\n"
          ],
          "name": "stdout"
        },
        {
          "output_type": "execute_result",
          "data": {
            "text/plain": [
              "<keras.callbacks.History at 0x7ff96c600240>"
            ]
          },
          "metadata": {
            "tags": []
          },
          "execution_count": 55
        }
      ]
    },
    {
      "cell_type": "markdown",
      "metadata": {
        "id": "QfEejeJHnxMj",
        "colab_type": "text"
      },
      "source": [
        "# Chapter summary\n",
        "1. Learning means finding a combination of model parameters that minimizes\n",
        "a loss function for a given set of training data samples and their corresponding\n",
        "targets.\n",
        "2. Learning happens by drawing random batches of data samples and their\n",
        "targets, and computing the gradient of the network parameters with\n",
        "respect to the loss on the batch. The network parameters are then moved\n",
        "a bit (the magnitude of the move is defined by the learning rate) in the\n",
        "opposite direction from the gradient.\n",
        "3. The entire learning process is made possible by the fact that neural networks\n",
        "are chains of differentiable tensor operations, and thus it’s possible\n",
        "to apply the chain rule of derivation to find the gradient function mapping\n",
        "the current parameters and current batch of data to a gradient value.\n",
        "4. Two key concepts you’ll see frequently in future chapters are loss and optimizers.\n",
        "These are the two things you need to define before you begin feeding\n",
        "data into a network.\n",
        "5. The loss is the quantity you’ll attempt to minimize during training, so it\n",
        "should represent a measure of success for the task you’re trying to solve.\n",
        "6. The optimizer specifies the exact way in which the gradient of the loss will\n",
        "be used to update parameters: for instance, it could be the RMSProp optimizer,\n",
        "SGD with momentum, and so on."
      ]
    }
  ]
}
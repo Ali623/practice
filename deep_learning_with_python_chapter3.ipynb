{
  "nbformat": 4,
  "nbformat_minor": 0,
  "metadata": {
    "colab": {
      "name": "Chapter3.ipynb",
      "version": "0.3.2",
      "provenance": [],
      "include_colab_link": true
    },
    "language_info": {
      "codemirror_mode": {
        "name": "ipython",
        "version": 3
      },
      "file_extension": ".py",
      "mimetype": "text/x-python",
      "name": "python",
      "nbconvert_exporter": "python",
      "pygments_lexer": "ipython3",
      "version": "3.6.4"
    },
    "kernelspec": {
      "display_name": "Python 3",
      "language": "python",
      "name": "python3"
    }
  },
  "cells": [
    {
      "cell_type": "markdown",
      "metadata": {
        "id": "view-in-github",
        "colab_type": "text"
      },
      "source": [
        "<a href=\"https://colab.research.google.com/github/Ali623/practice/blob/master/deep_learning_with_python_chapter3.ipynb\" target=\"_parent\"><img src=\"https://colab.research.google.com/assets/colab-badge.svg\" alt=\"Open In Colab\"/></a>"
      ]
    },
    {
      "cell_type": "markdown",
      "metadata": {
        "collapsed": true,
        "id": "glDVo-Ihnz5K",
        "colab_type": "text"
      },
      "source": [
        "# Getting started with neural networks (Chapter3)\n",
        "_____\n",
        "## This chapter covers\n",
        "- Core components of neural networks\n",
        "- An introduction to Keras\n",
        "- Setting up a deep-learning workstation\n",
        "- Using neural networks to solve basic\n",
        "- Classification and regression problems<br><br>\n",
        "the three most common use cases of neural networks: binary classification,\n",
        "multiclass classification, and scalar regression\n",
        "<br><br>\n",
        " we’ll take a closer look at the core components of neural networks\n",
        "that we introduced in chapter 2: layers, networks, objective functions, and optimizers."
      ]
    },
    {
      "cell_type": "markdown",
      "metadata": {
        "id": "n1oSIlErnz5O",
        "colab_type": "raw"
      },
      "source": [
        " Classifying movie reviews as positive or negative (binary classification)\n",
        " Classifying news wires by topic (multiclass classification)\n",
        " Estimating the price of a house, given real-estate data (regression)"
      ]
    },
    {
      "cell_type": "markdown",
      "metadata": {
        "id": "g2RQkdhhnz5T",
        "colab_type": "text"
      },
      "source": [
        "## 3.1 Anatomy of a neural network"
      ]
    },
    {
      "cell_type": "markdown",
      "metadata": {
        "id": "AMMwSpzQnz5Y",
        "colab_type": "text"
      },
      "source": [
        "training a neural network revolves around the following\n",
        "objects:"
      ]
    },
    {
      "cell_type": "markdown",
      "metadata": {
        "id": "K37lMSNKnz5d",
        "colab_type": "raw"
      },
      "source": [
        "◘ Layers, which are combined into a network (or model)\n",
        " The input data and corresponding targets\n",
        " The loss function, which defines the feedback signal used for learning\n",
        " The optimizer, which determines how learning proceeds"
      ]
    },
    {
      "cell_type": "markdown",
      "metadata": {
        "id": "BDQ6C-mwnz5g",
        "colab_type": "text"
      },
      "source": [
        "Figure 3.1 <br>\n",
        "You can visualize their interaction as illustrated in figure 3.1: the network, composed\n",
        "of layers that are chained together, maps the input data to predictions. The loss function\n",
        "then compares these predictions to the targets, producing a loss value: a measure\n",
        "of how well the network’s predictions match what was expected. The optimizer uses\n",
        "this loss value to update the network’s weights.\n",
        "<img src='images/f3.1.png'>"
      ]
    },
    {
      "cell_type": "markdown",
      "metadata": {
        "id": "ngd4ATmYnz5j",
        "colab_type": "text"
      },
      "source": [
        "### 3.1.1 Layers: the building blocks of deep learning\n",
        "-  Some layers are stateless, but\n",
        "more frequently layers have a state: the layer’s weights, one or several tensors learned\n",
        "with stochastic gradient descent, which together contain the network’s knowledge.\n",
        "- Different layers are appropriate for different tensor formats and different types of data\n",
        "processing. For instance, simple vector data, stored in 2D tensors of shape (samples,\n",
        "features), is often processed by densely connected layers, also called fully connected or dense\n",
        "layers (the Dense class in Keras). Sequence data, stored in 3D tensors of shape (samples,\n",
        "timesteps, features), is typically processed by recurrent layers such as an LSTM layer.\n",
        "Image data, stored in 4D tensors, is usually processed by 2D convolution layers (Conv2D).mm\n",
        "-  The notion of layer compatibility here refers specifically to the fact that every layer\n",
        "will only accept input tensors of a certain shape and will return output tensors of a certain\n",
        "shape. Consider the following example"
      ]
    },
    {
      "cell_type": "code",
      "metadata": {
        "id": "WVsxqe0unz5l",
        "colab_type": "code",
        "colab": {}
      },
      "source": [
        "from keras import layers\n",
        "layer = layers.Dense(32, input_shape=(784,))"
      ],
      "execution_count": 0,
      "outputs": []
    },
    {
      "cell_type": "markdown",
      "metadata": {
        "id": "v0NB9slgnz5z",
        "colab_type": "text"
      },
      "source": [
        "Above layer accept (784,) shape and return in (32,) shape"
      ]
    },
    {
      "cell_type": "markdown",
      "metadata": {
        "id": "hey6DoFTnz52",
        "colab_type": "text"
      },
      "source": [
        " Thus this layer can only be connected to a downstream layer that expects 32-\n",
        "dimensional vectors as its input. When using Keras, you don’t have to worry about\n",
        "compatibility, because the layers you add to your models are dynamically built to\n",
        "match the shape of the incoming layer. For instance, suppose you write the following:"
      ]
    },
    {
      "cell_type": "code",
      "metadata": {
        "id": "u03aFuRYnz55",
        "colab_type": "code",
        "colab": {}
      },
      "source": [
        "from keras import models\n",
        "from keras import layers\n",
        "model = models.Sequential()\n",
        "model.add(layers.Dense(32, input_shape=(784,)))\n",
        "model.add(layers.Dense(32))\n"
      ],
      "execution_count": 0,
      "outputs": []
    },
    {
      "cell_type": "markdown",
      "metadata": {
        "id": "oZjs7k3Enz6B",
        "colab_type": "text"
      },
      "source": [
        "The second layer didn’t receive an input shape argument—instead, it automatically\n",
        "inferred its input shape as being the output shape of the layer that came before. "
      ]
    },
    {
      "cell_type": "markdown",
      "metadata": {
        "id": "2iKppbG5nz6H",
        "colab_type": "text"
      },
      "source": [
        "### 3.1.2 Models: networks of layers"
      ]
    },
    {
      "cell_type": "markdown",
      "metadata": {
        "id": "C7xQn-rhnz6K",
        "colab_type": "text"
      },
      "source": [
        "much broader variety of network\n",
        "topologies. Some common ones include the following\n",
        "- Two-branch networks\n",
        "- Multihead networks\n",
        "- Inception blocks\n",
        "By choosing a network topology, you constrain your space of possibilities\n",
        "(hypothesis space) to a specific series of tensor operations, mapping input data to output\n",
        "data. What you’ll then be searching for is a good set of values for the weight tensors\n",
        "involved in these tensor operations.\n",
        "\n",
        "### 3.1.3 Loss functions and optimizers:<br>keys to configuring the learning process\n",
        "Once the network architecture is defined, you still have to choose two more things:\n",
        "-  Loss function (objective function)—The quantity that will be minimized during\n",
        "training. It represents a measure of success for the task at hand\n",
        "-  Optimizer—Determines how the network will be updated based on the loss function.\n",
        "It implements a specific variant of stochastic gradient descent (SGD).<br><br><br>\n",
        "A neural network that has multiple outputs may have multiple loss functions (one per\n",
        "output). But the gradient-descent process must be based on a single scalar loss value;\n",
        "so, for multiloss networks, all losses are combined (via averaging) into a single scalar\n",
        "quantity.\n",
        "-  Choosing the right objective function for the right problem is extremely important:\n",
        "### <span style='color:green'>you’ll use binary crossentropy for a two-class classification<br>problem, categorical crossentropy for a many-class classification problem, meansquared<br>error for a regression problem, connectionist temporal classification (CTC)<br>for a sequence-learning problem, and so on</span>"
      ]
    },
    {
      "cell_type": "markdown",
      "metadata": {
        "id": "sic1L97dnz6M",
        "colab_type": "text"
      },
      "source": [
        "# 3.2 Introduction to Keras"
      ]
    },
    {
      "cell_type": "markdown",
      "metadata": {
        "id": "uo44fYAJnz6P",
        "colab_type": "raw"
      },
      "source": [
        " It allows the same code to run seamlessly on CPU or GPU.\n",
        " It has a user-friendly API that makes it easy to quickly prototype deep-learning\n",
        "models.\n",
        " It has built-in support for convolutional networks (for computer vision), recurrent\n",
        "networks (for sequence processing), and any combination of both.\n",
        " It supports arbitrary network architectures: multi-input or multi-output models,\n",
        "layer sharing, model sharing, and so on. This means Keras is appropriate for\n",
        "building essentially any deep-learning model, from a generative adversarial network\n",
        "to a neural Turing machine."
      ]
    },
    {
      "cell_type": "markdown",
      "metadata": {
        "id": "Hw9diwRSnz6R",
        "colab_type": "text"
      },
      "source": [
        " Keras\n",
        "is used at Google, Netflix, Uber, CERN, Yelp, Square, and hundreds of startups working\n",
        "on a wide range of problems.<img src='images/f3.2.png'>"
      ]
    },
    {
      "cell_type": "markdown",
      "metadata": {
        "id": "90A5tnxlnz6U",
        "colab_type": "text"
      },
      "source": [
        "### 3.2.1 Keras, TensorFlow, Theano, and \n",
        "Keras is a model-level library, providing high-level building blocks for developing\n",
        "deep-learning models. It doesn’t handle low-level operations such as tensor manipulation\n",
        "and differentiation<br><br>\n",
        "Keras handles the\n",
        "problem in a modular way (see figure 3.3); <br><br>\n",
        "<b> three existing backend implementations\n",
        "are the TensorFlow backend, the Theano backend, and the Microsoft Cognitive\n",
        "Toolkit (CNTK) backend.</b>\n",
        "<img src='images/f3.3.png'>"
      ]
    },
    {
      "cell_type": "markdown",
      "metadata": {
        "id": "JPOhvBtonz6W",
        "colab_type": "text"
      },
      "source": [
        "### 3.2.2 Developing with Keras: a quick overview"
      ]
    },
    {
      "cell_type": "markdown",
      "metadata": {
        "id": "ME9M3kZ0nz6Z",
        "colab_type": "raw"
      },
      "source": [
        "1 Define your training data: input tensors and target tensors.\n",
        "2 Define a network of layers (or model ) that maps your inputs to your targets.\n",
        "3 Configure the learning process by choosing a loss function, an optimizer, and\n",
        "some metrics to monitor.\n",
        "4 Iterate on your training data by calling the fit() method of your model."
      ]
    },
    {
      "cell_type": "markdown",
      "metadata": {
        "id": "DGN4r0N1nz6b",
        "colab_type": "text"
      },
      "source": [
        "There are two ways to define a model: using the Sequential class (only for linear\n",
        "stacks of layers, which is the most common network architecture by far) or the functional\n",
        "API (for directed acyclic graphs of layers, which lets you build completely arbitrary\n",
        "architectures)."
      ]
    },
    {
      "cell_type": "code",
      "metadata": {
        "id": "BEubjdLOnz6d",
        "colab_type": "code",
        "colab": {}
      },
      "source": [
        "from keras import models\n",
        "from keras import layers\n",
        "model = models.Sequential()\n",
        "model.add(layers.Dense(32, activation='relu', input_shape=(784,)))\n",
        "model.add(layers.Dense(10, activation='softmax'))"
      ],
      "execution_count": 0,
      "outputs": []
    },
    {
      "cell_type": "markdown",
      "metadata": {
        "id": "-p0QESWInz6o",
        "colab_type": "text"
      },
      "source": [
        "<b>And here’s the same model defined using the functional API:</b>"
      ]
    },
    {
      "cell_type": "code",
      "metadata": {
        "id": "OHIL7mB5nz6q",
        "colab_type": "code",
        "colab": {}
      },
      "source": [
        "input_tensor = layers.Input(shape=(784,))\n",
        "x = layers.Dense(32, activation='relu')(input_tensor)\n",
        "output_tensor = layers.Dense(10, activation='softmax')(x)\n",
        "model = models.Model(inputs=input_tensor, outputs=output_tensor) "
      ],
      "execution_count": 0,
      "outputs": []
    },
    {
      "cell_type": "markdown",
      "metadata": {
        "id": "lNk3s__Vnz6z",
        "colab_type": "text"
      },
      "source": [
        "With the functional API, you’re manipulating the data tensors that the model processes\n",
        "and applying layers to this tensor as if they were functions."
      ]
    },
    {
      "cell_type": "markdown",
      "metadata": {
        "id": "NU9OwdUxnz61",
        "colab_type": "text"
      },
      "source": [
        "<b>NOTE</b><br>\n",
        "A detailed guide to what you can do with the functional API can be\n",
        "found in chapter 7. Until chapter 7, we’ll only be using the Sequential class\n",
        "in our code examples."
      ]
    },
    {
      "cell_type": "markdown",
      "metadata": {
        "id": "Y9AS83Lhnz63",
        "colab_type": "text"
      },
      "source": [
        "The learning process is configured in the compilation step, where you specify the\n",
        "optimizer and loss function(s) that the model should use, as well as the metrics you\n",
        "want to monitor during training. Here’s an example with a single loss function, which\n",
        "is by far the most common case:"
      ]
    },
    {
      "cell_type": "code",
      "metadata": {
        "id": "CeiBD9-Nnz65",
        "colab_type": "code",
        "colab": {}
      },
      "source": [
        "from keras import optimizers\n",
        "model.compile(optimizer=optimizers.RMSprop(lr=0.001),\n",
        "loss='mse',\n",
        "metrics=['accuracy'])\n"
      ],
      "execution_count": 0,
      "outputs": []
    },
    {
      "cell_type": "markdown",
      "metadata": {
        "id": "ZKWHsxdfnz7B",
        "colab_type": "text"
      },
      "source": [
        "Finally, the learning process consists of passing Numpy arrays of input data (and the\n",
        "corresponding target data) to the model via the fit() method, similar to what you\n",
        "would do in Scikit-Learn and several other machine-learning libraries:\n"
      ]
    },
    {
      "cell_type": "markdown",
      "metadata": {
        "id": "Uo8W2Coxnz7C",
        "colab_type": "raw"
      },
      "source": [
        "model.fit(input_tensor, target_tensor, batch_size=128, epochs=10)"
      ]
    },
    {
      "cell_type": "markdown",
      "metadata": {
        "id": "jJ4QHVFJnz7E",
        "colab_type": "text"
      },
      "source": [
        "three basic examples in sections 3.4, 3.5, and 3.6: a two-class classification\n",
        "example, a many-class classification example, and a regression example. "
      ]
    },
    {
      "cell_type": "markdown",
      "metadata": {
        "id": "cvX-Q1xynz7F",
        "colab_type": "text"
      },
      "source": [
        "#### 3.3 Setting up a deep-learning workstation"
      ]
    },
    {
      "cell_type": "markdown",
      "metadata": {
        "id": "JFuvs07Ynz7H",
        "colab_type": "text"
      },
      "source": [
        "### 3.3.1 Jupyter notebooks: the preferred way to run deep-learning experiments"
      ]
    },
    {
      "cell_type": "markdown",
      "metadata": {
        "id": "0pmiq9NVnz7J",
        "colab_type": "text"
      },
      "source": [
        "### 3.3.2 Getting Keras running: two options"
      ]
    },
    {
      "cell_type": "markdown",
      "metadata": {
        "id": "T1uy1H9Pnz7L",
        "colab_type": "text"
      },
      "source": [
        "### 3.3.3 Running deep-learning jobs in the cloud: pros and cons"
      ]
    },
    {
      "cell_type": "markdown",
      "metadata": {
        "id": "15aPnA3_nz7N",
        "colab_type": "text"
      },
      "source": [
        "__________\n",
        "# 3.4 Classifying movie reviews: <br> a binary classification example\n",
        "__________\n",
        "Two-class classification, or binary classification, may be the most widely applied kind\n",
        "of machine-learning problem. In this example, you’ll learn to classify movie reviews as\n",
        "positive or negative, based on the text content of the reviews"
      ]
    },
    {
      "cell_type": "markdown",
      "metadata": {
        "id": "WnH9hrvsnz7O",
        "colab_type": "text"
      },
      "source": [
        "### 3.4.1 The IMDB dataset\n",
        "You’ll work with the IMDB dataset: a set of 50,000 highly polarized reviews from the\n",
        "Internet Movie Database. They’re split into 25,000 reviews for training and 25,000\n",
        "reviews for testing, each set consisting of 50% negative and 50% positive reviews.<br><br>\n",
        " Just like the MNIST dataset, the IMDB dataset comes packaged with Keras. It has\n",
        "already been preprocessed: the reviews (sequences of words) have been turned into\n",
        "sequences of integers, where each integer stands for a specific word in a dictionary.\n",
        " The following code will load the dataset (when you run it the first time, about\n",
        "80 MB of data will be downloaded to your machine)."
      ]
    },
    {
      "cell_type": "markdown",
      "metadata": {
        "id": "XPjANx3Knz7P",
        "colab_type": "text"
      },
      "source": [
        " ### <span style='color:white;background-color:skyblue;padding:10px;'>Listing 3.1 Loading the IMDB dataset</span>"
      ]
    },
    {
      "cell_type": "code",
      "metadata": {
        "id": "41idxbcznz7R",
        "colab_type": "code",
        "colab": {
          "base_uri": "https://localhost:8080/",
          "height": 340
        },
        "outputId": "182bb71d-7de7-42bd-d1cb-991d3cfc0f64"
      },
      "source": [
        "from keras.datasets import imdb\n",
        "\n",
        "(train_data, train_labels), (test_data, test_labels) = imdb.load_data(num_words=10000)"
      ],
      "execution_count": 38,
      "outputs": [
        {
          "output_type": "error",
          "ename": "ValueError",
          "evalue": "ignored",
          "traceback": [
            "\u001b[0;31m---------------------------------------------------------------------------\u001b[0m",
            "\u001b[0;31mValueError\u001b[0m                                Traceback (most recent call last)",
            "\u001b[0;32m<ipython-input-38-5aaea60495fd>\u001b[0m in \u001b[0;36m<module>\u001b[0;34m()\u001b[0m\n\u001b[1;32m      1\u001b[0m \u001b[0;32mfrom\u001b[0m \u001b[0mkeras\u001b[0m\u001b[0;34m.\u001b[0m\u001b[0mdatasets\u001b[0m \u001b[0;32mimport\u001b[0m \u001b[0mimdb\u001b[0m\u001b[0;34m\u001b[0m\u001b[0;34m\u001b[0m\u001b[0m\n\u001b[1;32m      2\u001b[0m \u001b[0;34m\u001b[0m\u001b[0m\n\u001b[0;32m----> 3\u001b[0;31m \u001b[0;34m(\u001b[0m\u001b[0mtrain_data\u001b[0m\u001b[0;34m,\u001b[0m \u001b[0mtrain_labels\u001b[0m\u001b[0;34m)\u001b[0m\u001b[0;34m,\u001b[0m \u001b[0;34m(\u001b[0m\u001b[0mtest_data\u001b[0m\u001b[0;34m,\u001b[0m \u001b[0mtest_labels\u001b[0m\u001b[0;34m)\u001b[0m \u001b[0;34m=\u001b[0m \u001b[0mimdb\u001b[0m\u001b[0;34m.\u001b[0m\u001b[0mload_data\u001b[0m\u001b[0;34m(\u001b[0m\u001b[0mnum_words\u001b[0m\u001b[0;34m=\u001b[0m\u001b[0;36m10000\u001b[0m\u001b[0;34m)\u001b[0m\u001b[0;34m\u001b[0m\u001b[0;34m\u001b[0m\u001b[0m\n\u001b[0m",
            "\u001b[0;32m/usr/local/lib/python3.6/dist-packages/keras/datasets/imdb.py\u001b[0m in \u001b[0;36mload_data\u001b[0;34m(path, num_words, skip_top, maxlen, seed, start_char, oov_char, index_from, **kwargs)\u001b[0m\n\u001b[1;32m     57\u001b[0m                     file_hash='599dadb1135973df5b59232a0e9a887c')\n\u001b[1;32m     58\u001b[0m     \u001b[0;32mwith\u001b[0m \u001b[0mnp\u001b[0m\u001b[0;34m.\u001b[0m\u001b[0mload\u001b[0m\u001b[0;34m(\u001b[0m\u001b[0mpath\u001b[0m\u001b[0;34m)\u001b[0m \u001b[0;32mas\u001b[0m \u001b[0mf\u001b[0m\u001b[0;34m:\u001b[0m\u001b[0;34m\u001b[0m\u001b[0;34m\u001b[0m\u001b[0m\n\u001b[0;32m---> 59\u001b[0;31m         \u001b[0mx_train\u001b[0m\u001b[0;34m,\u001b[0m \u001b[0mlabels_train\u001b[0m \u001b[0;34m=\u001b[0m \u001b[0mf\u001b[0m\u001b[0;34m[\u001b[0m\u001b[0;34m'x_train'\u001b[0m\u001b[0;34m]\u001b[0m\u001b[0;34m,\u001b[0m \u001b[0mf\u001b[0m\u001b[0;34m[\u001b[0m\u001b[0;34m'y_train'\u001b[0m\u001b[0;34m]\u001b[0m\u001b[0;34m\u001b[0m\u001b[0;34m\u001b[0m\u001b[0m\n\u001b[0m\u001b[1;32m     60\u001b[0m         \u001b[0mx_test\u001b[0m\u001b[0;34m,\u001b[0m \u001b[0mlabels_test\u001b[0m \u001b[0;34m=\u001b[0m \u001b[0mf\u001b[0m\u001b[0;34m[\u001b[0m\u001b[0;34m'x_test'\u001b[0m\u001b[0;34m]\u001b[0m\u001b[0;34m,\u001b[0m \u001b[0mf\u001b[0m\u001b[0;34m[\u001b[0m\u001b[0;34m'y_test'\u001b[0m\u001b[0;34m]\u001b[0m\u001b[0;34m\u001b[0m\u001b[0;34m\u001b[0m\u001b[0m\n\u001b[1;32m     61\u001b[0m \u001b[0;34m\u001b[0m\u001b[0m\n",
            "\u001b[0;32m/usr/local/lib/python3.6/dist-packages/numpy/lib/npyio.py\u001b[0m in \u001b[0;36m__getitem__\u001b[0;34m(self, key)\u001b[0m\n\u001b[1;32m    260\u001b[0m                 return format.read_array(bytes,\n\u001b[1;32m    261\u001b[0m                                          \u001b[0mallow_pickle\u001b[0m\u001b[0;34m=\u001b[0m\u001b[0mself\u001b[0m\u001b[0;34m.\u001b[0m\u001b[0mallow_pickle\u001b[0m\u001b[0;34m,\u001b[0m\u001b[0;34m\u001b[0m\u001b[0;34m\u001b[0m\u001b[0m\n\u001b[0;32m--> 262\u001b[0;31m                                          pickle_kwargs=self.pickle_kwargs)\n\u001b[0m\u001b[1;32m    263\u001b[0m             \u001b[0;32melse\u001b[0m\u001b[0;34m:\u001b[0m\u001b[0;34m\u001b[0m\u001b[0;34m\u001b[0m\u001b[0m\n\u001b[1;32m    264\u001b[0m                 \u001b[0;32mreturn\u001b[0m \u001b[0mself\u001b[0m\u001b[0;34m.\u001b[0m\u001b[0mzip\u001b[0m\u001b[0;34m.\u001b[0m\u001b[0mread\u001b[0m\u001b[0;34m(\u001b[0m\u001b[0mkey\u001b[0m\u001b[0;34m)\u001b[0m\u001b[0;34m\u001b[0m\u001b[0;34m\u001b[0m\u001b[0m\n",
            "\u001b[0;32m/usr/local/lib/python3.6/dist-packages/numpy/lib/format.py\u001b[0m in \u001b[0;36mread_array\u001b[0;34m(fp, allow_pickle, pickle_kwargs)\u001b[0m\n\u001b[1;32m    690\u001b[0m         \u001b[0;31m# The array contained Python objects. We need to unpickle the data.\u001b[0m\u001b[0;34m\u001b[0m\u001b[0;34m\u001b[0m\u001b[0;34m\u001b[0m\u001b[0m\n\u001b[1;32m    691\u001b[0m         \u001b[0;32mif\u001b[0m \u001b[0;32mnot\u001b[0m \u001b[0mallow_pickle\u001b[0m\u001b[0;34m:\u001b[0m\u001b[0;34m\u001b[0m\u001b[0;34m\u001b[0m\u001b[0m\n\u001b[0;32m--> 692\u001b[0;31m             raise ValueError(\"Object arrays cannot be loaded when \"\n\u001b[0m\u001b[1;32m    693\u001b[0m                              \"allow_pickle=False\")\n\u001b[1;32m    694\u001b[0m         \u001b[0;32mif\u001b[0m \u001b[0mpickle_kwargs\u001b[0m \u001b[0;32mis\u001b[0m \u001b[0;32mNone\u001b[0m\u001b[0;34m:\u001b[0m\u001b[0;34m\u001b[0m\u001b[0;34m\u001b[0m\u001b[0m\n",
            "\u001b[0;31mValueError\u001b[0m: Object arrays cannot be loaded when allow_pickle=False"
          ]
        }
      ]
    },
    {
      "cell_type": "markdown",
      "metadata": {
        "id": "liz4iUspnz7c",
        "colab_type": "text"
      },
      "source": [
        "train_labels and test_labels are\n",
        "lists of 0s and 1s, where 0 stands for negative and 1 stands for positive:"
      ]
    },
    {
      "cell_type": "code",
      "metadata": {
        "id": "dRAnAOyhnz7f",
        "colab_type": "code",
        "colab": {}
      },
      "source": [
        "train_data[0]"
      ],
      "execution_count": 0,
      "outputs": []
    },
    {
      "cell_type": "code",
      "metadata": {
        "id": "kQHTUSOnnz7w",
        "colab_type": "code",
        "colab": {}
      },
      "source": [
        "train_labels[0]"
      ],
      "execution_count": 0,
      "outputs": []
    },
    {
      "cell_type": "markdown",
      "metadata": {
        "id": "IZifpF9Onz7-",
        "colab_type": "text"
      },
      "source": [
        "Because you’re restricting yourself to the top 10,000 most frequent words, no word\n",
        "index will exceed 10,000:\n"
      ]
    },
    {
      "cell_type": "code",
      "metadata": {
        "id": "l3w4tPv8nz8A",
        "colab_type": "code",
        "colab": {}
      },
      "source": [
        "max([max(sequence) for sequence in train_data])"
      ],
      "execution_count": 0,
      "outputs": []
    },
    {
      "cell_type": "markdown",
      "metadata": {
        "id": "jMnezdM-nz8J",
        "colab_type": "text"
      },
      "source": [
        "For kicks, here’s how you can quickly decode one of these reviews back to English\n",
        "words:"
      ]
    },
    {
      "cell_type": "code",
      "metadata": {
        "id": "MlZUHwBlnz8L",
        "colab_type": "code",
        "colab": {
          "base_uri": "https://localhost:8080/",
          "height": 231
        },
        "outputId": "e910e24f-cd67-40ce-b6b8-584963ebe5bb"
      },
      "source": [
        "import collections\n",
        "\n",
        "word_index = imdb.get_word_index()\n",
        "reverse_word_index = dict(\n",
        "    [(value, key) for (value, key) in word_index.items()])\n",
        "\n",
        "decoded_review = ' '.join(\n",
        "    [reverse_word_index.get(i - 3, '?') for i in train_data[0]])"
      ],
      "execution_count": 37,
      "outputs": [
        {
          "output_type": "stream",
          "text": [
            "Downloading data from https://s3.amazonaws.com/text-datasets/imdb_word_index.json\n",
            "1646592/1641221 [==============================] - 0s 0us/step\n"
          ],
          "name": "stdout"
        },
        {
          "output_type": "error",
          "ename": "NameError",
          "evalue": "ignored",
          "traceback": [
            "\u001b[0;31m---------------------------------------------------------------------------\u001b[0m",
            "\u001b[0;31mNameError\u001b[0m                                 Traceback (most recent call last)",
            "\u001b[0;32m<ipython-input-37-6d5fcf7b13eb>\u001b[0m in \u001b[0;36m<module>\u001b[0;34m()\u001b[0m\n\u001b[1;32m      6\u001b[0m \u001b[0;34m\u001b[0m\u001b[0m\n\u001b[1;32m      7\u001b[0m decoded_review = ' '.join(\n\u001b[0;32m----> 8\u001b[0;31m     [reverse_word_index.get(i - 3, '?') for i in train_data[0]])\n\u001b[0m",
            "\u001b[0;31mNameError\u001b[0m: name 'train_data' is not defined"
          ]
        }
      ]
    },
    {
      "cell_type": "markdown",
      "metadata": {
        "id": "w7yTL-71nz8c",
        "colab_type": "text"
      },
      "source": [
        "### 3.4.2 Preparing the data You can’t feed lists of "
      ]
    },
    {
      "cell_type": "markdown",
      "metadata": {
        "id": "1cIwuGj0nz8e",
        "colab_type": "raw"
      },
      "source": [
        "You can’t feed lists of integers into a neural network. You have to turn your lists into\n",
        "tensors. There are two ways to do that:\n",
        " Pad your lists so that they all have the same length, turn them into an integer\n",
        "tensor of shape (samples, word_indices), and then use as the first layer in\n",
        "your network a layer capable of handling such integer tensors (the Embedding\n",
        "layer, which we’ll cover in detail later in the book).\n",
        " One-hot encode your lists to turn them into vectors of 0s and 1s. This would\n",
        "mean, for instance, turning the sequence [3, 5] into a 10,000-dimensional vector\n",
        "that would be all 0s except for indices 3 and 5, which would be 1s. Then you\n",
        "could use as the first layer in your network a Dense layer, capable of handling\n",
        "floating-point vector data.\n",
        "Let’s go with the latter solution to vectorize the data, which you’ll do manually for\n",
        "maximum clarity."
      ]
    },
    {
      "cell_type": "markdown",
      "metadata": {
        "id": "IKn-MgIbnz8g",
        "colab_type": "text"
      },
      "source": [
        " ### <span style='color:white;background-color:skyblue;padding:10px;'>Listing 3.2 Encoding the integer sequences into a binary matrix\n",
        "</span>"
      ]
    },
    {
      "cell_type": "code",
      "metadata": {
        "id": "OxiV-HQ0nz8o",
        "colab_type": "code",
        "colab": {}
      },
      "source": [
        "import numpy as np\n",
        "def vectorize_sequences(sequences, dimension=10000):\n",
        "    results = np.zeros((len(sequences), dimension))\n",
        "    for i, sequence in enumerate(sequences):\n",
        "        results[i, sequence] = 1.\n",
        "    return results\n",
        "\n",
        "x_train = vectorize_sequences(train_data)\n",
        "x_test = vectorize_sequences(test_data)"
      ],
      "execution_count": 0,
      "outputs": []
    },
    {
      "cell_type": "code",
      "metadata": {
        "id": "SmNWfuvPnz82",
        "colab_type": "code",
        "colab": {}
      },
      "source": [
        "x_train[0]"
      ],
      "execution_count": 0,
      "outputs": []
    },
    {
      "cell_type": "markdown",
      "metadata": {
        "id": "zcaysgxdnz8-",
        "colab_type": "text"
      },
      "source": [
        "You should also vectorize your labels, which is straightforward:"
      ]
    },
    {
      "cell_type": "code",
      "metadata": {
        "id": "jM02IHnJnz8_",
        "colab_type": "code",
        "colab": {}
      },
      "source": [
        "y_train = np.asarray(train_labels).astype('float32')\n",
        "y_test = np.asarray(test_labels).astype('float32')"
      ],
      "execution_count": 0,
      "outputs": []
    },
    {
      "cell_type": "markdown",
      "metadata": {
        "id": "zwZ8N8rwnz9G",
        "colab_type": "text"
      },
      "source": [
        "Now the data is ready to be fed into a neural network."
      ]
    },
    {
      "cell_type": "markdown",
      "metadata": {
        "id": "9Sk1xkHrnz9H",
        "colab_type": "text"
      },
      "source": [
        "### 3.4.3 Building your network\n"
      ]
    },
    {
      "cell_type": "markdown",
      "metadata": {
        "id": "bSNQKIN4nz9L",
        "colab_type": "text"
      },
      "source": [
        "simple stack of fully connected (Dense) layers with relu activations: Dense(16,\n",
        "activation='relu').<br>\n",
        "     The argument being passed to each Dense layer (16) is the number of hidden\n",
        "units of the layer. A hidden unit is a dimension in the representation space of the layer.\n",
        "You may remember from chapter 2 that each such Dense layer with a relu activation\n",
        "implements the following chain of tensor operations:<br><br>\n",
        "    `output = relu(dot(W, input) + b)`<br><br>\n",
        "There are two key architecture decisions to be made about such a stack of Dense layers:\n",
        "-  How many layers to use\n",
        "-  How many hidden units to choose for each layer\n",
        "In chapter 4, you’ll learn formal principles to guide you in making these choices. For\n",
        "the time being, you’ll have to trust me with the following architecture choice:\n",
        "-  Two intermediate layers with 16 hidden units each\n",
        "-  A third layer that will output the scalar prediction regarding the sentiment of\n",
        "the current review\n",
        "<br><br>\n",
        "The intermediate layers will use relu as their activation function, and the final layer\n",
        "will use a sigmoid activation so as to output a probability (a score between 0 and 1,indicating how likely the sample is to have the target “1”: how likely the review is to be\n",
        "positive). A relu (rectified linear unit) is a function meant to zero out negative values\n",
        "(see figure 3.4), whereas a sigmoid “squashes” arbitrary values into the [0, 1] interval\n",
        "(see figure 3.5), outputting something that can be interpreted as a probability.\n",
        "<img src='images/f3.4.png'>\n",
        "<img src='images/f3.5.png'>\n",
        "<img src='images/f3.6.png'>"
      ]
    },
    {
      "cell_type": "markdown",
      "metadata": {
        "id": "PVY44IJWnz9N",
        "colab_type": "text"
      },
      "source": [
        "Figure 3.6 shows what the network looks like. And here’s the Keras implementation,\n",
        "similar to the MNIST example you saw previously."
      ]
    },
    {
      "cell_type": "markdown",
      "metadata": {
        "id": "5zxKmaKFnz9Q",
        "colab_type": "text"
      },
      "source": [
        " ### <span style='color:white;background-color:skyblue;padding:10px;'>Listing 3.2 Encoding the integer sequences into a binary matrix\n",
        "</span>"
      ]
    },
    {
      "cell_type": "code",
      "metadata": {
        "id": "t3A3EZ8Gnz9S",
        "colab_type": "code",
        "colab": {}
      },
      "source": [
        "from keras import models\n",
        "from keras import layers\n",
        "model = models.Sequential()\n",
        "model.add(layers.Dense(16, activation='relu', input_shape=(10000,)))\n",
        "model.add(layers.Dense(16, activation='relu'))\n",
        "model.add(layers.Dense(1, activation='sigmoid'))"
      ],
      "execution_count": 0,
      "outputs": []
    },
    {
      "cell_type": "markdown",
      "metadata": {
        "id": "cQIbvRQHnz9b",
        "colab_type": "text"
      },
      "source": [
        "<div style='background-color:#ccc;padding:20px;'>\n",
        "What are activation functions, and why are they necessary?\n",
        "Without an activation function like relu (also called a non-linearity), the Dense layer\n",
        "would consist of two linear operations—a dot product and an addition<b><br>\n",
        "`output = dot(W, input) + b`<br><br>\n",
        "So the layer could only learn linear transformations (affine transformations) of the\n",
        "input data: the hypothesis space of the layer would be the set of all possible linear\n",
        "transformations of the input data into a 16-dimensional space. Such a hypothesis\n",
        "space is too restricted and wouldn’t benefit from multiple layers of representations,\n",
        "because a deep stack of linear layers would still implement a linear operation: adding\n",
        "more layers wouldn’t extend the hypothesis space.<br><br>\n",
        "In order to get access to a much richer hypothesis space that would benefit from\n",
        "deep representations, you need a non-linearity, or activation function. relu is the\n",
        "most popular activation function in deep learning, but there are many other candidates,\n",
        "which all come with similarly strange names: prelu, elu, and so on.\n",
        "</div>"
      ]
    },
    {
      "cell_type": "markdown",
      "metadata": {
        "id": "EDRxfcPunz9d",
        "colab_type": "text"
      },
      "source": [
        "Finally, you need to choose a loss function and an optimizer. Because you’re facing a\n",
        "binary classification problem and the output of your network is a probability (you end\n",
        "your network with a single-unit layer with a sigmoid activation), it’s best to use the binary_crossentropy loss. It isn’t the only viable choice: you could use, for instance,\n",
        "mean_squared_error. But crossentropy is usually the best choice when you’re dealing\n",
        "with models that output probabilities. Crossentropy is a quantity from the field of Information\n",
        "Theory that measures the distance between probability distributions or, in this\n",
        "case, between the ground-truth distribution and your predictions.\n",
        " Here’s the step where you configure the model with the rmsprop optimizer and\n",
        "the binary_crossentropy loss function. Note that you’ll also monitor accuracy\n",
        "during training"
      ]
    },
    {
      "cell_type": "markdown",
      "metadata": {
        "id": "dNBOfOJ-nz9f",
        "colab_type": "text"
      },
      "source": [
        " ### <span style='color:white;background-color:skyblue;padding:10px;'>Listing 3.4 Compiling the model\n",
        "</span>\n"
      ]
    },
    {
      "cell_type": "code",
      "metadata": {
        "id": "LUBcD46_nz9g",
        "colab_type": "code",
        "colab": {}
      },
      "source": [
        "model.compile(optimizer='rmsprop',\n",
        "              loss='binary_crossentropy',\n",
        "              metrics=['accuracy'])"
      ],
      "execution_count": 0,
      "outputs": []
    },
    {
      "cell_type": "markdown",
      "metadata": {
        "id": "x3grSdU7nz9k",
        "colab_type": "text"
      },
      "source": [
        "You’re passing your optimizer, loss function, and metrics as strings, which is possible\n",
        "because `rmsprop, binary_crossentropy`, and `accuracy` are packaged as part of Keras.\n",
        "Sometimes you may want to configure the parameters of your optimizer or pass a custom\n",
        "loss function or metric function. The former can be done by passing an optimizer\n",
        "class instance as the optimizer argument, as shown in listing 3.5; the latter can be\n",
        "done by passing function objects as the `loss` and/or `metrics` arguments, as shown in\n",
        "listing 3.6.\n"
      ]
    },
    {
      "cell_type": "markdown",
      "metadata": {
        "id": "cSEjtx4enz9o",
        "colab_type": "text"
      },
      "source": [
        " ### <span style='color:white;background-color:skyblue;padding:10px;'>Listing 3.5 Configuring the optimizer\n",
        "</span>\n"
      ]
    },
    {
      "cell_type": "code",
      "metadata": {
        "id": "tRdTJDwanz9t",
        "colab_type": "code",
        "colab": {}
      },
      "source": [
        "from keras import optimizers\n",
        "\n",
        "model.compile(optimizer=optimizers.RMSprop(lr=0.001),\n",
        "              loss='binary_crossentropy',\n",
        "              metrics=['accuracy'])"
      ],
      "execution_count": 0,
      "outputs": []
    },
    {
      "cell_type": "markdown",
      "metadata": {
        "id": "cC9D_wLtnz92",
        "colab_type": "text"
      },
      "source": [
        "### <span style='color:white;background-color:skyblue;padding:10px;'>Listing 3.6 Using custom losses and metrics</span>\n"
      ]
    },
    {
      "cell_type": "code",
      "metadata": {
        "id": "gSEHxQFInz94",
        "colab_type": "code",
        "colab": {}
      },
      "source": [
        "from keras import losses\n",
        "from keras import metrics\n",
        "\n",
        "model.compile(optimizer=optimizers.RMSprop(lr=0.001),\n",
        "              loss=losses.binary_crossentropy,\n",
        "              metrics=[metrics.binary_accuracy])"
      ],
      "execution_count": 0,
      "outputs": []
    },
    {
      "cell_type": "markdown",
      "metadata": {
        "id": "5XIj3dz9nz-D",
        "colab_type": "text"
      },
      "source": [
        "### 3.4.4 Validating your approach\n",
        "In order to monitor during training the accuracy of the model on data it has never\n",
        "seen before, you’ll create a validation set by setting apart 10,000 samples from the\n",
        "original training data."
      ]
    },
    {
      "cell_type": "markdown",
      "metadata": {
        "id": "2wEkFKYGnz-F",
        "colab_type": "text"
      },
      "source": [
        "### <span style='color:white;background-color:skyblue;padding:10px;'>Listing 3.6 Using custom losses and metrics</span>"
      ]
    },
    {
      "cell_type": "code",
      "metadata": {
        "id": "j6kJyKHCnz-G",
        "colab_type": "code",
        "colab": {}
      },
      "source": [
        "x_val = x_train[:10000]\n",
        "partial_x_train = x_train[10000:]\n",
        "y_val = y_train[:10000]\n",
        "partial_y_train = y_train[10000:]"
      ],
      "execution_count": 0,
      "outputs": []
    },
    {
      "cell_type": "markdown",
      "metadata": {
        "id": "S9gte7zRnz-O",
        "colab_type": "text"
      },
      "source": [
        "You’ll now train the model for 20 epochs (20 iterations over all samples in the\n",
        "x_train and y_train tensors), in mini-batches of 512 samples. At the same time,\n",
        "you’ll monitor loss and accuracy on the 10,000 samples that you set apart. You do so by\n",
        "passing the validation data as the validation_data argument."
      ]
    },
    {
      "cell_type": "markdown",
      "metadata": {
        "id": "RjEI7FZCnz-V",
        "colab_type": "text"
      },
      "source": [
        "### <span style='color:white;background-color:skyblue;padding:10px;'>Listing 3.8 Training your model\n",
        "</span>"
      ]
    },
    {
      "cell_type": "code",
      "metadata": {
        "id": "pYvIvV13nz-X",
        "colab_type": "code",
        "colab": {}
      },
      "source": [
        "model.compile(optimizer='rmsprop',\n",
        "loss='binary_crossentropy',\n",
        "              metrics=['acc'])\n",
        "history = model.fit(partial_x_train,\n",
        "                    partial_y_train,\n",
        "                    epochs=20,\n",
        "                    batch_size=512,\n",
        "                    validation_data=(x_val, y_val))\n"
      ],
      "execution_count": 0,
      "outputs": []
    },
    {
      "cell_type": "markdown",
      "metadata": {
        "id": "8DOtxsX2nz-f",
        "colab_type": "text"
      },
      "source": [
        "On CPU, this will take less than 2 seconds per epoch—training is over in 20 seconds.\n",
        "At the end of every epoch, there is a slight pause as the model computes its loss and\n",
        "accuracy on the 10,000 samples of the validation data.<br>\n",
        " Note that the call to model.fit() returns a History object. This object has a member\n",
        "history, which is a dictionary containing data about everything that happened\n",
        "during training. Let’s look at it:\n"
      ]
    },
    {
      "cell_type": "code",
      "metadata": {
        "id": "FMYnyaZXnz-g",
        "colab_type": "code",
        "colab": {}
      },
      "source": [
        "history_dict = history.history\n",
        "history_dict.keys()\n"
      ],
      "execution_count": 0,
      "outputs": []
    },
    {
      "cell_type": "code",
      "metadata": {
        "id": "vcGtu7i7nz-y",
        "colab_type": "code",
        "colab": {}
      },
      "source": [
        "history_dict.items()"
      ],
      "execution_count": 0,
      "outputs": []
    },
    {
      "cell_type": "markdown",
      "metadata": {
        "id": "KC3UfdWOnz-5",
        "colab_type": "text"
      },
      "source": [
        " Matplotlib to plot\n",
        "the training and validation loss side by side (see figure 3.7), as well as the training and\n",
        "validation accuracy (see figure 3.8). Note that your own results may vary slightly due to\n",
        "a different random initialization of your network"
      ]
    },
    {
      "cell_type": "markdown",
      "metadata": {
        "id": "6eSp6Etdnz-6",
        "colab_type": "text"
      },
      "source": [
        "### <span style='color:white;background-color:skyblue;padding:10px;'>Listing 3.9 Plotting the training and validation loss\n",
        "</span>"
      ]
    },
    {
      "cell_type": "code",
      "metadata": {
        "id": "GHAj0aGBnz-7",
        "colab_type": "code",
        "colab": {}
      },
      "source": [
        "import matplotlib.pyplot as plt\n",
        "history_dict = history.history\n",
        "loss_values = history_dict['loss']\n",
        "val_loss_values = history_dict['val_loss']\n",
        "acc = history_dict['acc']\n",
        "epochs = list(range(1, len(acc) + 1))\n",
        "plt.plot(epochs, loss_values, 'bo', label='Training loss')\n",
        "plt.plot(epochs, val_loss_values, 'b', label='Validation loss')\n",
        "plt.title('Training and validation loss')\n",
        "plt.xlabel('Epochs')\n",
        "plt.ylabel('Loss')\n",
        "plt.legend()\n",
        "plt.show()\n",
        "print(\"Figure 3.7 Training and validation loss\")"
      ],
      "execution_count": 0,
      "outputs": []
    },
    {
      "cell_type": "markdown",
      "metadata": {
        "id": "qfjYU1Ubnz_X",
        "colab_type": "text"
      },
      "source": [
        "### <span style='color:white;background-color:skyblue;padding:10px;'>Listing 3.10 Plotting the training and validation accuracy</span>"
      ]
    },
    {
      "cell_type": "code",
      "metadata": {
        "id": "cB22bAd8nz_i",
        "colab_type": "code",
        "colab": {}
      },
      "source": [
        "plt.clf()\n",
        "acc_values = history_dict['acc']\n",
        "val_acc_values = history_dict['val_acc']\n",
        "plt.plot(epochs, acc, 'bo', label='Training acc')\n",
        "plt.plot(epochs, val_acc_values, 'b', label='Validation acc')\n",
        "plt.title('Training and validation accuracy')\n",
        "plt.xlabel('Epochs')\n",
        "plt.ylabel('Loss')\n",
        "plt.legend()\n",
        "plt.show()\n",
        "print(\"Figure 3.8 Training and validation accuracy\")"
      ],
      "execution_count": 0,
      "outputs": []
    },
    {
      "cell_type": "markdown",
      "metadata": {
        "id": "uSjLTD_6nz_r",
        "colab_type": "text"
      },
      "source": [
        " Let’s train a new network from scratch for four epochs and then evaluate it on the\n",
        "test data."
      ]
    },
    {
      "cell_type": "markdown",
      "metadata": {
        "id": "blcg44lpnz_v",
        "colab_type": "text"
      },
      "source": [
        "### <div style='color:white;background-color:skyblue;padding:10px;'>Listing 3.11 Retraining a model from scratch</div>"
      ]
    },
    {
      "cell_type": "code",
      "metadata": {
        "id": "7luuBzi4nz_y",
        "colab_type": "code",
        "colab": {}
      },
      "source": [
        "model = models.Sequential()\n",
        "model.add(layers.Dense(16, activation='relu', input_shape=(10000,)))\n",
        "model.add(layers.Dense(16, activation='relu'))\n",
        "model.add(layers.Dense(1, activation='sigmoid'))\n",
        "model.compile(optimizer='rmsprop',\n",
        "              loss='binary_crossentropy',\n",
        "              metrics=['accuracy'])\n",
        "model.fit(x_train, y_train, epochs=4, batch_size=512)\n",
        "results = model.evaluate(x_test, y_test)"
      ],
      "execution_count": 0,
      "outputs": []
    },
    {
      "cell_type": "markdown",
      "metadata": {
        "id": "a1CUtDoZn0AC",
        "colab_type": "text"
      },
      "source": [
        "This fairly naive approach achieves an accuracy of 88%. With state-of-the-art\n",
        "approaches, you should be able to get close to 95%."
      ]
    },
    {
      "cell_type": "markdown",
      "metadata": {
        "id": "ao3lQjLzn0AE",
        "colab_type": "text"
      },
      "source": [
        "### 3.4.5 Using a trained network to generate predictions on new data"
      ]
    },
    {
      "cell_type": "markdown",
      "metadata": {
        "id": "VE2pO7ybn0AG",
        "colab_type": "text"
      },
      "source": [
        "After having trained a network, you’ll want to use it in a practical setting. You can generate\n",
        "the likelihood of reviews being positive by using the predict method:"
      ]
    },
    {
      "cell_type": "code",
      "metadata": {
        "id": "lfiZeSOVn0AH",
        "colab_type": "code",
        "colab": {}
      },
      "source": [
        "model.predict(x_test)"
      ],
      "execution_count": 0,
      "outputs": []
    },
    {
      "cell_type": "markdown",
      "metadata": {
        "id": "vkhyQdi0n0AP",
        "colab_type": "text"
      },
      "source": [
        "As you can see, the network is confident for some samples (0.99 or more, or 0.01 or\n",
        "less) but less confident for others (0.6, 0.4)."
      ]
    },
    {
      "cell_type": "markdown",
      "metadata": {
        "id": "LFVeLfi4n0AQ",
        "colab_type": "text"
      },
      "source": [
        "#### 3.4.6 Further experiments"
      ]
    },
    {
      "cell_type": "markdown",
      "metadata": {
        "id": "YKtwxlcbn0AS",
        "colab_type": "raw"
      },
      "source": [
        " You used two hidden layers. Try using one or three hidden layers, and see how\n",
        "doing so affects validation and test accuracy.\n",
        " Try using layers with more hidden units or fewer hidden units: 32 units, 64 units,\n",
        "and so on.\n",
        " Try using the mse loss function instead of binary_crossentropy.\n",
        " Try using the tanh activation (an activation that was popular in the early days of\n",
        "neural networks) instead of relu"
      ]
    },
    {
      "cell_type": "markdown",
      "metadata": {
        "id": "AS0LNoEan0AU",
        "colab_type": "text"
      },
      "source": [
        "### 3.4.7 Wrapping up"
      ]
    },
    {
      "cell_type": "markdown",
      "metadata": {
        "id": "VrJJrJsan0AV",
        "colab_type": "text"
      },
      "source": [
        "-  You usually need to do quite a bit of preprocessing on your raw data in order to\n",
        "be able to feed it—as tensors—into a neural network. Sequences of words can\n",
        "be encoded as binary vectors, but there are other encoding options, too.\n",
        "-  Stacks of Dense layers with relu activations can solve a wide range of problems\n",
        "(including sentiment classification), and you’ll likely use them frequently.\n",
        "-  In a binary classification problem (two output classes), your network should\n",
        "end with a Dense layer with one unit and a sigmoid activation: the output of\n",
        "your network should be a scalar between 0 and 1, encoding a probability.\n",
        "- With such a scalar sigmoid output on a binary classification problem, the loss\n",
        "function you should use is binary_crossentropy.\n",
        "-  The rmsprop optimizer is generally a good enough choice, whatever your problem.\n",
        "That’s one less thing for you to worry about.\n",
        "-  As they get better on their training data, neural networks eventually start overfitting\n",
        "and end up obtaining increasingly worse results on data they’ve never\n",
        "seen before. Be sure to always monitor performance on data that is outside of\n",
        "the training set. "
      ]
    },
    {
      "cell_type": "markdown",
      "metadata": {
        "id": "-hGxf6wIn0AW",
        "colab_type": "text"
      },
      "source": [
        "_____\n",
        "# 3.5 Classifying newswires: a multiclass classification example\n",
        "_____\n",
        "If each data point could belong to multiple categories (in this case, topics), you’d be\n",
        "facing a multilabel, multiclass classification problem."
      ]
    },
    {
      "cell_type": "markdown",
      "metadata": {
        "id": "jmCnU3Xyn0AX",
        "colab_type": "text"
      },
      "source": [
        "### 3.5.1 The Reuters dataset\n",
        "You’ll work with the Reuters dataset, a set of short newswires and their topics, published\n",
        "by Reuters in 1986. It’s a simple, widely used toy dataset for text classification. There\n",
        "are 46 different topics; some topics are more represented than others, but each topic\n",
        "has at least 10 examples in the training set.<br>\n",
        " Like IMDB and MNIST, the Reuters dataset comes packaged as part of Keras. Let’s\n",
        "take a look."
      ]
    },
    {
      "cell_type": "markdown",
      "metadata": {
        "id": "fF2Me6oYn0AY",
        "colab_type": "text"
      },
      "source": [
        "### <div style='color:white;background-color:skyblue;padding:10px;'>Listing 3.12 Loading the Reuters dataset</div>"
      ]
    },
    {
      "cell_type": "code",
      "metadata": {
        "id": "vwy50x9jn0AZ",
        "colab_type": "code",
        "colab": {}
      },
      "source": [
        "from keras.datasets import reuters\n",
        "(train_data, train_labels), (test_data, test_labels) = reuters.load_data(num_words=10000)"
      ],
      "execution_count": 0,
      "outputs": []
    },
    {
      "cell_type": "markdown",
      "metadata": {
        "id": "YO0iOkbln0Au",
        "colab_type": "text"
      },
      "source": [
        "As with the IMDB dataset, the argument <b>num_words=10000</b> restricts the data to the\n",
        "<b>10,000</b> most frequently occurring words found in the data.\n",
        " You have <b>8,982 training examples and 2,246 test examples</b>:"
      ]
    },
    {
      "cell_type": "code",
      "metadata": {
        "id": "_0SfwJm0n0Aw",
        "colab_type": "code",
        "colab": {}
      },
      "source": [
        "len(train_data)"
      ],
      "execution_count": 0,
      "outputs": []
    },
    {
      "cell_type": "code",
      "metadata": {
        "id": "hgMvMFCDn0A2",
        "colab_type": "code",
        "colab": {}
      },
      "source": [
        "len(test_data)"
      ],
      "execution_count": 0,
      "outputs": []
    },
    {
      "cell_type": "markdown",
      "metadata": {
        "id": "YPV44FLPn0A7",
        "colab_type": "text"
      },
      "source": [
        "As with the IMDB reviews, each example is a list of integers (word indices):"
      ]
    },
    {
      "cell_type": "code",
      "metadata": {
        "id": "-cr05Dx6n0A8",
        "colab_type": "code",
        "colab": {}
      },
      "source": [
        "train_data[10]"
      ],
      "execution_count": 0,
      "outputs": []
    },
    {
      "cell_type": "markdown",
      "metadata": {
        "id": "6rbegTdin0BG",
        "colab_type": "text"
      },
      "source": [
        "Here’s how you can decode it back to words, in case you’re curious."
      ]
    },
    {
      "cell_type": "markdown",
      "metadata": {
        "id": "OdGAFReYn0BH",
        "colab_type": "text"
      },
      "source": [
        "### <div style='color:white;background-color:skyblue;padding:10px;'>Listing 3.13 Decoding newswires back to text</div>\n"
      ]
    },
    {
      "cell_type": "code",
      "metadata": {
        "id": "sVel5vlan0BJ",
        "colab_type": "code",
        "colab": {}
      },
      "source": [
        "word_index = reuters.get_word_index()\n",
        "reverse_word_index = dict([(value, key) \n",
        "                           for (key, value) in word_index.items()])\n",
        "decoded_newswire = ' '.join([reverse_word_index.get(i - 3, '?') \n",
        "                             for i in train_data[0]])"
      ],
      "execution_count": 0,
      "outputs": []
    },
    {
      "cell_type": "markdown",
      "metadata": {
        "id": "gukkoMr7n0BP",
        "colab_type": "text"
      },
      "source": [
        "The label associated with an example is an integer between 0 and 45—a topic index:"
      ]
    },
    {
      "cell_type": "code",
      "metadata": {
        "id": "GZmoPODGn0BW",
        "colab_type": "code",
        "colab": {}
      },
      "source": [
        " train_labels[10]"
      ],
      "execution_count": 0,
      "outputs": []
    },
    {
      "cell_type": "code",
      "metadata": {
        "id": "uCDHtYczn0Bd",
        "colab_type": "code",
        "colab": {}
      },
      "source": [
        "### 3.5.2 Preparing the data\n",
        "You can vectorize the data with the exact same code as in the previous example."
      ],
      "execution_count": 0,
      "outputs": []
    },
    {
      "cell_type": "markdown",
      "metadata": {
        "id": "zwnGpdI8n0Bn",
        "colab_type": "text"
      },
      "source": [
        "\n",
        "### <div style='color:white;background-color:skyblue;padding:10px;'>Listing 3.14 Encoding the data</div>\n"
      ]
    },
    {
      "cell_type": "code",
      "metadata": {
        "id": "aWloNbjKn0Bo",
        "colab_type": "code",
        "colab": {}
      },
      "source": [
        "import numpy as np\n",
        "\n",
        "def vectorize_sequences(sequences, dimension=10000):\n",
        "    results = np.zeros((len(sequences), dimension))\n",
        "    for i, sequence in enumerate(sequences):\n",
        "        results[i, sequence] = 1.\n",
        "    return results\n",
        "\n",
        "x_train = vectorize_sequences(train_data)\n",
        "x_test = vectorize_sequences(test_data)\n"
      ],
      "execution_count": 0,
      "outputs": []
    },
    {
      "cell_type": "markdown",
      "metadata": {
        "id": "ivObjfw5n0Bw",
        "colab_type": "text"
      },
      "source": [
        "<b>one-hot encoding</b> of\n",
        "the labels consists of embedding each label as an all-zero vector with a 1 in the place of\n",
        "the label index. Here’s an example:"
      ]
    },
    {
      "cell_type": "code",
      "metadata": {
        "id": "YDIkH8tHn0Bz",
        "colab_type": "code",
        "colab": {}
      },
      "source": [
        "def to_one_hot(labels, dimension=46):\n",
        "    results = np.zeros((len(labels), dimension))\n",
        "    for i, label in enumerate(labels):\n",
        "        results[i, label] = 1.\n",
        "    return results\n",
        "\n",
        "one_hot_train_labels = to_one_hot(train_labels)\n",
        "one_hot_test_labels = to_one_hot(test_labels)"
      ],
      "execution_count": 0,
      "outputs": []
    },
    {
      "cell_type": "markdown",
      "metadata": {
        "id": "P1JA6CnBn0B7",
        "colab_type": "text"
      },
      "source": [
        "<b>Note</b> that there is a built-in way to do this in Keras, which you’ve already seen in action\n",
        "in the MNIST example:"
      ]
    },
    {
      "cell_type": "code",
      "metadata": {
        "id": "-uWUcNPkn0B8",
        "colab_type": "code",
        "colab": {}
      },
      "source": [
        "from keras.utils.np_utils import to_categorical\n",
        "one_hot_train_labels = to_categorical(train_labels)\n",
        "one_hot_test_labels = to_categorical(test_labels)"
      ],
      "execution_count": 0,
      "outputs": []
    },
    {
      "cell_type": "markdown",
      "metadata": {
        "id": "rztLGXLxn0CG",
        "colab_type": "text"
      },
      "source": [
        "### 3.5.3 Building your network\n",
        "the number of output classes has gone from 2 to 46. The\n",
        "dimensionality of the output space is much larger.<br>\n",
        ": such small layers may act as information\n",
        "bottlenecks, permanently dropping relevant information.\n",
        " For this reason you’ll use larger layers. Let’s go with 64 units.\n",
        " \n",
        "### <span style='color:white;background-color:skyblue;padding:10px;'>Listing 3.15 Model definition\n",
        "</span>\n"
      ]
    },
    {
      "cell_type": "code",
      "metadata": {
        "id": "tMM-c1z6n0CH",
        "colab_type": "code",
        "colab": {}
      },
      "source": [
        "from keras import models\n",
        "from keras import layers\n",
        "\n",
        "model = models.Sequential()\n",
        "model.add(layers.Dense(64, activation='relu', input_shape=(10000,)))\n",
        "model.add(layers.Dense(64, activation='relu'))\n",
        "model.add(layers.Dense(46, activation='softmax'))"
      ],
      "execution_count": 0,
      "outputs": []
    },
    {
      "cell_type": "markdown",
      "metadata": {
        "id": "2_78dDeun0CT",
        "colab_type": "text"
      },
      "source": [
        "There are two other things you should note about this architecture:"
      ]
    },
    {
      "cell_type": "markdown",
      "metadata": {
        "id": "s6Qw2t_jn0CV",
        "colab_type": "raw"
      },
      "source": [
        " You end the network with a Dense layer of size 46. This means for each `\n",
        "sample, the network will output a 46-dimensional vector. Each entry in this vector\n",
        "(each dimension) will encode a different output class.\n",
        " The last layer uses a softmax activation. You saw this pattern in the MNIST\n",
        "example. It means the network will output a probability distribution over the 46\n",
        "different output classes—for every input sample, the network will produce a 46-\n",
        "dimensional output vector, where output[i] is the probability that the sample\n",
        "belongs to class i. The 46 scores will sum to 1."
      ]
    },
    {
      "cell_type": "markdown",
      "metadata": {
        "id": "uGeOM9qRn0CX",
        "colab_type": "text"
      },
      "source": [
        "### <span style='color:white;background-color:skyblue;padding:10px;'>Listing 3.15 Model definition\n",
        "</span>"
      ]
    },
    {
      "cell_type": "code",
      "metadata": {
        "id": "jiriYrt7n0CY",
        "colab_type": "code",
        "colab": {}
      },
      "source": [
        "model.compile(optimizer='rmsprop',\n",
        "              loss='categorical_crossentropy',\n",
        "              metrics=['accuracy'])"
      ],
      "execution_count": 0,
      "outputs": []
    },
    {
      "cell_type": "markdown",
      "metadata": {
        "id": "Y_m5VEtgn0Cd",
        "colab_type": "text"
      },
      "source": [
        "### 3.5.4 Validating your approach\n",
        "Let’s set apart 1,000 samples in the training data to use as a validation set"
      ]
    },
    {
      "cell_type": "markdown",
      "metadata": {
        "id": "GZASdRRjn0Ce",
        "colab_type": "text"
      },
      "source": [
        "### <span style='color:white;background-color:skyblue;padding:10px;'>Listing 3.17 Setting aside a validation set\n",
        "</span>"
      ]
    },
    {
      "cell_type": "code",
      "metadata": {
        "id": "NyslArxLn0Cf",
        "colab_type": "code",
        "colab": {}
      },
      "source": [
        "x_val = x_train[:1000]\n",
        "partial_x_train = x_train[1000:]\n",
        "y_val = one_hot_train_labels[:1000]\n",
        "partial_y_train = one_hot_train_labels[1000:]"
      ],
      "execution_count": 0,
      "outputs": []
    },
    {
      "cell_type": "markdown",
      "metadata": {
        "id": "b0fyjUCzn0Cj",
        "colab_type": "text"
      },
      "source": [
        "Now, let’s train the network for 20 epochs.\n",
        "### <span style='color:white;background-color:skyblue;padding:10px;'>Listing 3.18 Training the model\n",
        "</span>"
      ]
    },
    {
      "cell_type": "code",
      "metadata": {
        "id": "Qrct3laDn0Cj",
        "colab_type": "code",
        "colab": {}
      },
      "source": [
        "history = model.fit(partial_x_train,\n",
        "                    partial_y_train,\n",
        "                    epochs=20,\n",
        "                    batch_size=512,\n",
        "                    validation_data=(x_val, y_val))"
      ],
      "execution_count": 0,
      "outputs": []
    },
    {
      "cell_type": "markdown",
      "metadata": {
        "id": "kjYw-GV2n0Co",
        "colab_type": "text"
      },
      "source": [
        "And finally, let’s display its loss and accuracy curves (see figures 3.9 and 3.10)."
      ]
    },
    {
      "cell_type": "markdown",
      "metadata": {
        "id": "G6iNQebvn0Cq",
        "colab_type": "text"
      },
      "source": [
        "### <span style='color:white;background-color:skyblue;padding:10px;'>Listing 3.19 Plotting the training and validation loss\n",
        "</span>"
      ]
    },
    {
      "cell_type": "code",
      "metadata": {
        "id": "CSg1IwSfn0Cr",
        "colab_type": "code",
        "colab": {}
      },
      "source": [
        "import matplotlib.pyplot as plt\n",
        "loss = history.history['loss']\n",
        "val_loss = history.history['val_loss']\n",
        "epochs = range(1, len(loss) + 1)\n",
        "plt.plot(epochs, loss, 'bo', label='Training loss')\n",
        "plt.plot(epochs, val_loss, 'b', label='Validation loss')\n",
        "plt.title('Training and validation loss')\n",
        "plt.xlabel('Epochs')\n",
        "plt.ylabel('Loss')\n",
        "plt.legend()\n",
        "plt.show()\n"
      ],
      "execution_count": 0,
      "outputs": []
    },
    {
      "cell_type": "markdown",
      "metadata": {
        "id": "QWcoTOwwn0Cy",
        "colab_type": "text"
      },
      "source": [
        "### <span style='color:white;background-color:skyblue;padding:10px;'>Listing 3.20 Plotting the training and validation accuracy</span>"
      ]
    },
    {
      "cell_type": "code",
      "metadata": {
        "id": "yo-b4vZDn0C6",
        "colab_type": "code",
        "colab": {}
      },
      "source": [
        "plt.clf()\n",
        "acc = history.history['acc']\n",
        "val_acc = history.history['val_acc']\n",
        "plt.plot(epochs, acc, 'bo', label='Training acc')\n",
        "plt.plot(epochs, val_acc, 'b', label='Validation acc')\n",
        "plt.title('Training and validation accuracy')\n",
        "plt.xlabel('Epochs')\n",
        "plt.ylabel('Loss')\n",
        "plt.legend()\n",
        "plt.show()\n"
      ],
      "execution_count": 0,
      "outputs": []
    },
    {
      "cell_type": "markdown",
      "metadata": {
        "id": "LzxAL9ZSn0C_",
        "colab_type": "text"
      },
      "source": [
        "The network begins to overfit after nine epochs. Let’s train a new network from\n",
        "scratch for nine epochs and then evaluate it on the test set.\n",
        "### <span style='color:white;background-color:skyblue;padding:10px;'>Listing 3.21 Retraining a model from scratch\n",
        "</span>"
      ]
    },
    {
      "cell_type": "code",
      "metadata": {
        "id": "6IMSwSS_n0DB",
        "colab_type": "code",
        "colab": {}
      },
      "source": [
        "model = models.Sequential()\n",
        "model.add(layers.Dense(64, activation='relu', input_shape=(10000,)))\n",
        "model.add(layers.Dense(64, activation='relu'))\n",
        "model.add(layers.Dense(46, activation='softmax'))\n",
        "\n",
        "model.compile(optimizer='rmsprop',\n",
        "              loss='categorical_crossentropy',\n",
        "              metrics=['accuracy'])\n",
        "model.fit(partial_x_train,\n",
        "          partial_y_train,\n",
        "          epochs=9,\n",
        "          batch_size=512,\n",
        "          validation_data=(x_val, y_val))\n",
        "\n",
        "results = model.evaluate(x_test, one_hot_test_labels)\n"
      ],
      "execution_count": 0,
      "outputs": []
    },
    {
      "cell_type": "markdown",
      "metadata": {
        "id": "0zGkeHEln0DN",
        "colab_type": "text"
      },
      "source": [
        "Here are the final results:"
      ]
    },
    {
      "cell_type": "code",
      "metadata": {
        "id": "ivbR4Gf6n0DO",
        "colab_type": "code",
        "colab": {}
      },
      "source": [
        "results"
      ],
      "execution_count": 0,
      "outputs": []
    },
    {
      "cell_type": "markdown",
      "metadata": {
        "id": "R491SXekn0DS",
        "colab_type": "text"
      },
      "source": [
        "This approach reaches an accuracy of ~80%. With a balanced binary classification\n",
        "problem, the accuracy reached by a purely random classifier would be 50%. But in\n",
        "this case it’s closer to 19%, so the results seem pretty good, at least when compared to\n",
        "a random baseline:"
      ]
    },
    {
      "cell_type": "code",
      "metadata": {
        "id": "2Jpg-CxCn0DT",
        "colab_type": "code",
        "colab": {}
      },
      "source": [
        "import copy\n",
        "test_labels_copy = copy.copy(test_labels)\n",
        "np.random.shuffle(test_labels_copy)\n",
        "hits_array = np.array(test_labels) == np.array(test_labels_copy)\n",
        "float(np.sum(hits_array)) / len(test_labels)\n"
      ],
      "execution_count": 0,
      "outputs": []
    },
    {
      "cell_type": "markdown",
      "metadata": {
        "id": "YMjABZEvn0Dg",
        "colab_type": "text"
      },
      "source": [
        "### 3.5.5 Generating predictions on new data"
      ]
    },
    {
      "cell_type": "markdown",
      "metadata": {
        "id": "3jzNYlbkn0Di",
        "colab_type": "text"
      },
      "source": [
        "You can verify that the predict method of the model instance returns a probability\n",
        "distribution over all 46 topics. Let’s generate topic predictions for all of the test data."
      ]
    },
    {
      "cell_type": "markdown",
      "metadata": {
        "id": "a-fTH28Un0Di",
        "colab_type": "text"
      },
      "source": [
        "### <span style='color:white;background-color:skyblue;padding:10px;'>Listing 3.22 Generating predictions for new data\n",
        "</span>"
      ]
    },
    {
      "cell_type": "code",
      "metadata": {
        "id": "mJP5miJ3n0Dj",
        "colab_type": "code",
        "colab": {}
      },
      "source": [
        "predictions = model.predict(x_test)"
      ],
      "execution_count": 0,
      "outputs": []
    },
    {
      "cell_type": "code",
      "metadata": {
        "id": "Ay_C9v-on0Dm",
        "colab_type": "code",
        "colab": {}
      },
      "source": [
        " predictions[0].shape"
      ],
      "execution_count": 0,
      "outputs": []
    },
    {
      "cell_type": "markdown",
      "metadata": {
        "id": "t4_O6XVYn0Dt",
        "colab_type": "text"
      },
      "source": [
        "The coefficients in this vector sum to 1:"
      ]
    },
    {
      "cell_type": "code",
      "metadata": {
        "id": "R0pHeCOmn0Du",
        "colab_type": "code",
        "colab": {}
      },
      "source": [
        "np.sum(predictions[0])"
      ],
      "execution_count": 0,
      "outputs": []
    },
    {
      "cell_type": "markdown",
      "metadata": {
        "id": "kOzTXseNn0Dy",
        "colab_type": "text"
      },
      "source": [
        "The largest entry is the predicted class—the class with the highest probability:"
      ]
    },
    {
      "cell_type": "code",
      "metadata": {
        "id": "lUsPE1_sn0Dz",
        "colab_type": "code",
        "colab": {}
      },
      "source": [
        "np.argmax(predictions[0])"
      ],
      "execution_count": 0,
      "outputs": []
    },
    {
      "cell_type": "markdown",
      "metadata": {
        "id": "S3Dxd4o4n0D4",
        "colab_type": "text"
      },
      "source": [
        "### 3.5.6 A different way to handle the labels and the loss\n",
        "We mentioned earlier that another way to encode the labels would be to cast them as\n",
        "an integer tensor, like this:"
      ]
    },
    {
      "cell_type": "code",
      "metadata": {
        "id": "CuTMZkG4n0D5",
        "colab_type": "code",
        "colab": {}
      },
      "source": [
        "y_train = np.array(train_labels)\n",
        "y_test = np.array(test_labels)"
      ],
      "execution_count": 0,
      "outputs": []
    },
    {
      "cell_type": "markdown",
      "metadata": {
        "id": "wVvdKK1Dn0EA",
        "colab_type": "text"
      },
      "source": [
        "The only thing this approach would change is the choice of the loss function. The loss\n",
        "function used in listing 3.21, categorical_crossentropy, expects the labels to follow\n",
        "a categorical encoding. With integer labels, you should use sparse_categorical_\n",
        "crossentropy:"
      ]
    },
    {
      "cell_type": "code",
      "metadata": {
        "id": "vp5b_u7Xn0EB",
        "colab_type": "code",
        "colab": {}
      },
      "source": [
        "model.compile(optimizer='rmsprop',\n",
        "              loss='sparse_categorical_crossentropy',\n",
        "              metrics=['acc'])"
      ],
      "execution_count": 0,
      "outputs": []
    },
    {
      "cell_type": "markdown",
      "metadata": {
        "id": "CjJcSXe-n0EI",
        "colab_type": "text"
      },
      "source": [
        "This new loss function is still mathematically the same as categorical_crossentropy;\n",
        "it just has a different interface."
      ]
    },
    {
      "cell_type": "markdown",
      "metadata": {
        "id": "pvsLKmOKn0EJ",
        "colab_type": "text"
      },
      "source": [
        "### 3.5.7 The importance of having sufficiently large intermediate layers"
      ]
    },
    {
      "cell_type": "markdown",
      "metadata": {
        "id": "T8qUZUcEn0EL",
        "colab_type": "text"
      },
      "source": [
        "We mentioned earlier that because the final outputs are 46-dimensional, you should\n",
        "avoid intermediate layers with many fewer than 46 hidden units. Now let’s see what\n",
        "happens when you introduce an information bottleneck by having intermediate layers\n",
        "that are significantly less than 46-dimensional: for example, 4-dimensional.\n"
      ]
    },
    {
      "cell_type": "markdown",
      "metadata": {
        "id": "D_UMTpO6n0EM",
        "colab_type": "text"
      },
      "source": [
        "### <span style='color:white;background-color:skyblue;padding:10px;'>Listing 3.23 A model with an information bottleneck\n",
        "</span>"
      ]
    },
    {
      "cell_type": "code",
      "metadata": {
        "id": "LI4V2L1bn0EN",
        "colab_type": "code",
        "colab": {}
      },
      "source": [
        "model = models.Sequential()\n",
        "model.add(layers.Dense(64, activation='relu', input_shape=(10000,)))\n",
        "model.add(layers.Dense(4, activation='relu'))\n",
        "model.add(layers.Dense(46, activation='softmax'))\n",
        "\n",
        "model.compile(optimizer='rmsprop',\n",
        "              loss='categorical_crossentropy',\n",
        "              metrics=['accuracy'])\n",
        "model.fit(partial_x_train,\n",
        "          partial_y_train,\n",
        "          epochs=20,\n",
        "          batch_size=128,\n",
        "          validation_data=(x_val, y_val))"
      ],
      "execution_count": 0,
      "outputs": []
    },
    {
      "cell_type": "markdown",
      "metadata": {
        "id": "m36P-_0Ln0EQ",
        "colab_type": "text"
      },
      "source": [
        "The network now peaks at <b>~71% </b>validation accuracy, an <b>8%</b>absolute drop. This drop\n",
        "is mostly due to the fact that you’re trying to compress a lot of information (enough\n",
        "information to recover the separation hyperplanes of 46 classes) into an intermediate\n",
        "space that is too low-dimensional. The network is able to cram most of the necessary\n",
        "information into these eight-dimensional representations, but not all of it."
      ]
    },
    {
      "cell_type": "markdown",
      "metadata": {
        "id": "ryjoVOx1n0ER",
        "colab_type": "text"
      },
      "source": [
        "### 3.5.8 Further experiments"
      ]
    },
    {
      "cell_type": "markdown",
      "metadata": {
        "id": "8NMpZ4Vyn0ES",
        "colab_type": "text"
      },
      "source": [
        "-  Try using larger or smaller layers: 32 units, 128 units, and so on.\n",
        "-  You used two hidden layers. Now try using a single hidden layer, or three hidden\n",
        "layers."
      ]
    },
    {
      "cell_type": "markdown",
      "metadata": {
        "id": "MQnE8Op0n0ES",
        "colab_type": "text"
      },
      "source": [
        "### 3.5.9 Wrapping up"
      ]
    },
    {
      "cell_type": "markdown",
      "metadata": {
        "id": "TGtDXMznn0EV",
        "colab_type": "text"
      },
      "source": [
        "-  If you’re trying to classify data points among N classes, your network should end\n",
        "with a Dense layer of size N\n",
        "- In a single-label, multiclass classification problem, your network should end\n",
        "with a softmax activation so that it will output a probability distribution over the\n",
        "N output classes.\n",
        "- Categorical crossentropy is almost always the loss function you should use for\n",
        "such problems. It minimizes the distance between the probability distributions\n",
        "output by the network and the true distribution of the targets.\n",
        "- There are two ways to handle labels in multiclass classification:<br>\n",
        "  – Encoding the labels via categorical encoding (also known as one-hot encoding)\n",
        "and using categorical_crossentropy as a loss function<br>\n",
        "   – Encoding the labels as integers and using the sparse_categorical_crossentropy\n",
        "loss function\n",
        "- If you need to classify data into a large number of categories, you should avoid\n",
        "creating information bottlenecks in your network due to intermediate layers\n",
        "that are too small. "
      ]
    },
    {
      "cell_type": "markdown",
      "metadata": {
        "id": "cejjuBW7n0EV",
        "colab_type": "text"
      },
      "source": [
        "___\n",
        "# 3.6 Predicting house prices: a regression example\n",
        "___"
      ]
    },
    {
      "cell_type": "markdown",
      "metadata": {
        "id": "B_sfdnAQn0EW",
        "colab_type": "text"
      },
      "source": [
        "<b>NOTE</b> Don’t confuse regression and the algorithm logistic regression. Confusingly,\n",
        "logistic regression isn’t a regression algorithm—it’s a classification\n",
        "algorithm"
      ]
    },
    {
      "cell_type": "markdown",
      "metadata": {
        "id": "Oac-I_JYn0EW",
        "colab_type": "text"
      },
      "source": [
        "### 3.6.1 The Boston Housing Price dataset"
      ]
    },
    {
      "cell_type": "markdown",
      "metadata": {
        "id": "Q1iMjJT6n0EW",
        "colab_type": "text"
      },
      "source": [
        "You’ll attempt to predict the median price of homes in a given Boston suburb in the\n",
        "mid-1970s, given data points about the suburb at the time, such as the crime rate, the\n",
        "local property tax rate, and so on. The dataset you’ll use has an interesting difference\n",
        "from the two previous examples. It has relatively few data points: only 506, split\n",
        "between 404 training samples and 102 test samples. And each feature in the input data\n",
        "(for example, the crime rate) has a different scale. For instance, some values are proportions,\n",
        "which take values between 0 and 1; others take values between 1 and 12, others\n",
        "between 0 and 100, and so on."
      ]
    },
    {
      "cell_type": "markdown",
      "metadata": {
        "id": "gbA6HIvYn0EX",
        "colab_type": "text"
      },
      "source": [
        "### <span style='color:white;background-color:skyblue;padding:10px;'> Listing 3.24 Loading the Boston housing dataset</span>"
      ]
    },
    {
      "cell_type": "code",
      "metadata": {
        "id": "nwBf_OAPn0EY",
        "colab_type": "code",
        "colab": {}
      },
      "source": [
        "from keras.datasets import boston_housing\n",
        "(train_data, train_targets), (test_data, test_targets) = boston_housing.load_data()"
      ],
      "execution_count": 0,
      "outputs": []
    },
    {
      "cell_type": "code",
      "metadata": {
        "id": "fmW9dgzzn0Eb",
        "colab_type": "code",
        "colab": {}
      },
      "source": [
        " train_data.shape"
      ],
      "execution_count": 0,
      "outputs": []
    },
    {
      "cell_type": "code",
      "metadata": {
        "id": "fnMVtHx7n0Ef",
        "colab_type": "code",
        "colab": {}
      },
      "source": [
        "test_data.shape"
      ],
      "execution_count": 0,
      "outputs": []
    },
    {
      "cell_type": "markdown",
      "metadata": {
        "id": "pj4baj3qn0Ei",
        "colab_type": "text"
      },
      "source": [
        "As you can see, you have 404 training samples and 102 test samples, each with 13\n",
        "numerical features, such as per capita crime rate, average number of rooms per dwelling,\n",
        "accessibility to highways, and so on.<br>\n",
        " The targets are the median values of owner-occupied homes, in thousands of\n",
        "dollars:"
      ]
    },
    {
      "cell_type": "code",
      "metadata": {
        "id": "BfKPqjyRn0Ej",
        "colab_type": "code",
        "colab": {}
      },
      "source": [
        "train_targets"
      ],
      "execution_count": 0,
      "outputs": []
    },
    {
      "cell_type": "markdown",
      "metadata": {
        "id": "f2FQU8aOn0Em",
        "colab_type": "text"
      },
      "source": [
        "### 3.6.2 Preparing the data"
      ]
    },
    {
      "cell_type": "markdown",
      "metadata": {
        "id": "kLS8oAyHn0Em",
        "colab_type": "text"
      },
      "source": [
        " feature in the input\n",
        "data (a column in the input data matrix), you subtract the mean of the feature and\n",
        "divide by the standard deviation, so that the feature is centered around 0 and has a\n",
        "unit standard deviation. This is easily done in Numpy.\n",
        "### <span style='color:white;background-color:skyblue;padding:10px;'>Listing 3.25 Normalizing the data</span>"
      ]
    },
    {
      "cell_type": "code",
      "metadata": {
        "id": "Hz3MD-nyn0En",
        "colab_type": "code",
        "colab": {}
      },
      "source": [
        "mean = train_data.mean(axis=0)\n",
        "train_data -= mean\n",
        "std = train_data.std(axis=0)\n",
        "train_data /= std\n",
        "test_data -= mean\n",
        "test_data /= std"
      ],
      "execution_count": 0,
      "outputs": []
    },
    {
      "cell_type": "markdown",
      "metadata": {
        "id": "ECjvFr94n0Ep",
        "colab_type": "text"
      },
      "source": [
        "### 3.6.3 Building your network"
      ]
    },
    {
      "cell_type": "markdown",
      "metadata": {
        "id": "scE0YW31n0Ep",
        "colab_type": "text"
      },
      "source": [
        "Because so few samples are available, you’ll use a very small network with two hidden\n",
        "layers, each with 64 units. In general, the less training data you have, the worse overfitting\n",
        "will be, and using a small network is one way to mitigate overfitting."
      ]
    },
    {
      "cell_type": "markdown",
      "metadata": {
        "id": "1CLKQvs2n0Eq",
        "colab_type": "text"
      },
      "source": [
        "### <span style='color:white;background-color:skyblue;padding:10px;'>Listing 3.26 Model definition</span>"
      ]
    },
    {
      "cell_type": "code",
      "metadata": {
        "id": "6a497IEbn0Eq",
        "colab_type": "code",
        "colab": {}
      },
      "source": [
        "from keras import models\n",
        "from keras import layers\n",
        "def build_model():\n",
        "    model = models.Sequential()\n",
        "    model.add(layers.Dense(64, activation='relu',\n",
        "    input_shape=(train_data.shape[1],)))\n",
        "    model.add(layers.Dense(64, activation='relu'))\n",
        "    model.add(layers.Dense(1))\n",
        "    model.compile(optimizer='rmsprop', loss='mse', metrics=['mae'])\n",
        "    return model"
      ],
      "execution_count": 0,
      "outputs": []
    },
    {
      "cell_type": "markdown",
      "metadata": {
        "id": "3PJQ2nAbn0Ev",
        "colab_type": "text"
      },
      "source": [
        "### 3.6.4 Validating your approach using K-fold validation"
      ]
    },
    {
      "cell_type": "markdown",
      "metadata": {
        "id": "rDpIW2oHn0Ev",
        "colab_type": "text"
      },
      "source": [
        "To evaluate your network while you keep adjusting its parameters (such as the number\n",
        "of epochs used for training), you could split the data into a training set and a validation\n",
        "set, as you did in the previous examples. But because you have so few data points,\n",
        "the validation set would end up being very small (for instance, about 100 examples).\n",
        "As a consequence, the validation scores might change a lot depending on which data\n",
        "points you chose to use for validation and which you chose for training: the validation\n",
        "scores might have a high variance with regard to the validation split. This would prevent\n",
        "you from reliably evaluating your model.<br>\n",
        " The best practice in such situations is to use K-fold cross-validation (see figure 3.11).\n",
        "It consists of splitting the available data into K partitions (typically K = 4 or 5), instantiating\n",
        "K identical models, and training each one on K – 1 partitions while evaluating on\n",
        "the remaining partition. The validation score for the model used is then the average of\n",
        "the K validation scores obtained. In terms of code, this is straightforward.\n",
        "<img src='images/f3.11.png'>"
      ]
    },
    {
      "cell_type": "markdown",
      "metadata": {
        "id": "trMF_PCMn0Ew",
        "colab_type": "text"
      },
      "source": [
        "### <span style='color:white;background-color:skyblue;padding:10px;'>Listing 3.27 K-fold validation</span>"
      ]
    },
    {
      "cell_type": "code",
      "metadata": {
        "id": "4v_1iP9Tn0Ex",
        "colab_type": "code",
        "colab": {}
      },
      "source": [
        "import numpy as np\n",
        "k=4\n",
        "num_val_samples = len(train_data) // k\n",
        "num_epochs = 100\n",
        "all_scores = []"
      ],
      "execution_count": 0,
      "outputs": []
    },
    {
      "cell_type": "code",
      "metadata": {
        "id": "DKR91otEn0E3",
        "colab_type": "code",
        "colab": {}
      },
      "source": [
        "for i in range(k):\n",
        "    print('processing fold #', i)\n",
        "    val_data = train_data[i * num_val_samples: (i + 1) * num_val_samples]\n",
        "    val_targets = train_targets[i * num_val_samples: (i + 1) * num_val_samples]\n",
        "    partial_train_data = np.concatenate(\n",
        "        [train_data[:i * num_val_samples],\n",
        "         train_data[(i + 1) * num_val_samples:]],\n",
        "        axis=0)\n",
        "    partial_train_targets = np.concatenate(\n",
        "        [train_targets[:i * num_val_samples],\n",
        "         train_targets[(i + 1) * num_val_samples:]],\n",
        "        axis=0)\n",
        "    model = build_model()\n",
        "    model.fit(partial_train_data, partial_train_targets,\n",
        "              epochs=num_epochs, batch_size=1, verbose=0)\n",
        "    val_mse, val_mae = model.evaluate(val_data, val_targets, verbose=0)\n",
        "    all_scores.append(val_mae)"
      ],
      "execution_count": 0,
      "outputs": []
    },
    {
      "cell_type": "code",
      "metadata": {
        "id": "W36gfVCGn0E6",
        "colab_type": "code",
        "colab": {}
      },
      "source": [
        " all_scores"
      ],
      "execution_count": 0,
      "outputs": []
    },
    {
      "cell_type": "code",
      "metadata": {
        "id": "eRO7nB3pn0E9",
        "colab_type": "code",
        "colab": {}
      },
      "source": [
        "np.mean(all_scores)"
      ],
      "execution_count": 0,
      "outputs": []
    },
    {
      "cell_type": "markdown",
      "metadata": {
        "id": "xBNEk8wQn0FA",
        "colab_type": "text"
      },
      "source": [
        "The different runs do indeed show rather different validation scores, from 2.6 to 3.2.\n",
        "The average (3.0) is a much more reliable metric than any single score—that’s the\n",
        "entire point of K-fold cross-validation. In this case, you’re off by $3,000 on average,\n",
        "which is significant considering that the prices range from $10,000 to $50,000.\n",
        " Let’s try training the network a bit longer: 500 epochs. To keep a record of how\n",
        "well the model does at each epoch, you’ll modify the training loop to save the perepoch\n",
        "validation score log."
      ]
    },
    {
      "cell_type": "markdown",
      "metadata": {
        "id": "k3MnS-C4n0FB",
        "colab_type": "text"
      },
      "source": [
        "### <span style='color:white;background-color:skyblue;padding:10px;'>Listing 3.28 Saving the validation logs at each fold</span>"
      ]
    },
    {
      "cell_type": "code",
      "metadata": {
        "id": "6tJNc5iXn0FB",
        "colab_type": "code",
        "colab": {}
      },
      "source": [
        "num_epochs = 500\n",
        "all_mae_histories = []\n",
        "for i in range(k):\n",
        "    print('processing fold #', i)\n",
        "    val_data = train_data[i * num_val_samples: (i + 1) * num_val_samples]\n",
        "    val_targets = train_targets[i * num_val_samples: (i + 1) * num_val_samples]\n",
        "    partial_train_data = np.concatenate(\n",
        "        [train_data[:i * num_val_samples],\n",
        "         train_data[(i + 1) * num_val_samples:]],\n",
        "        axis=0)\n",
        "    \n",
        "    partial_train_targets = np.concatenate(\n",
        "        [train_targets[:i * num_val_samples],\n",
        "         train_targets[(i + 1) * num_val_samples:]],\n",
        "        axis=0)\n",
        "    model = build_model()\n",
        "\n",
        "    history = model.fit(partial_train_data, partial_train_targets,\n",
        "                        validation_data=(val_data, val_targets),\n",
        "                        epochs=num_epochs, batch_size=1, verbose=0)\n",
        "    mae_history = history.history['val_mean_absolute_error']\n",
        "    all_mae_histories.append(mae_history)"
      ],
      "execution_count": 0,
      "outputs": []
    },
    {
      "cell_type": "markdown",
      "metadata": {
        "id": "pZzZljrjn0FE",
        "colab_type": "text"
      },
      "source": [
        "You can then compute the average of the per-epoch MAE scores for all folds.\n"
      ]
    },
    {
      "cell_type": "markdown",
      "metadata": {
        "id": "fhEY79jHn0FF",
        "colab_type": "text"
      },
      "source": [
        "### <span style='color:white;background-color:skyblue;padding:10px;'>Listing 3.29 Building the history of successive mean K-fold validation scores</span>"
      ]
    },
    {
      "cell_type": "code",
      "metadata": {
        "id": "Wh81Lxxdn0FG",
        "colab_type": "code",
        "colab": {}
      },
      "source": [
        "average_mae_history = [\n",
        "    np.mean([x[i] for x in all_mae_histories]) for i in range(num_epochs)]"
      ],
      "execution_count": 0,
      "outputs": []
    },
    {
      "cell_type": "markdown",
      "metadata": {
        "id": "iGeDskyjn0FI",
        "colab_type": "text"
      },
      "source": [
        "Let’s plot this; see figure 3.12."
      ]
    },
    {
      "cell_type": "markdown",
      "metadata": {
        "id": "vZPHhYyTn0FK",
        "colab_type": "text"
      },
      "source": [
        "### <span style='color:white;background-color:skyblue;padding:10px;'>Listing 3.30 Plotting validation scores</span>"
      ]
    },
    {
      "cell_type": "code",
      "metadata": {
        "id": "09lQ6u15n0FK",
        "colab_type": "code",
        "colab": {}
      },
      "source": [
        "import matplotlib.pyplot as plt\n",
        "plt.plot(range(1, len(average_mae_history) + 1), average_mae_history)\n",
        "plt.xlabel('Epochs')\n",
        "plt.ylabel('Validation MAE')\n",
        "plt.show()\n"
      ],
      "execution_count": 0,
      "outputs": []
    },
    {
      "cell_type": "markdown",
      "metadata": {
        "id": "5p-BMSDQn0FN",
        "colab_type": "text"
      },
      "source": [
        " Omit the first 10 data points, which are on a different scale than the rest of the curve.\n",
        " Replace each point with an exponential moving average of the previous points,\n",
        "to obtain a smooth curve"
      ]
    },
    {
      "cell_type": "markdown",
      "metadata": {
        "id": "pxv7qBYon0FO",
        "colab_type": "text"
      },
      "source": [
        "### <span style='color:white;background-color:skyblue;padding:10px;'>Listing 3.31 Plotting validation scores, excluding the first 10 data points</span>"
      ]
    },
    {
      "cell_type": "code",
      "metadata": {
        "id": "n_3hHn57n0FO",
        "colab_type": "code",
        "colab": {}
      },
      "source": [
        "def smooth_curve(points, factor=0.9):\n",
        "    smoothed_points = []\n",
        "    for point in points:\n",
        "        if smoothed_points:\n",
        "            previous = smoothed_points[-1]\n",
        "            smoothed_points.append(previous * factor + point * (1 - factor))\n",
        "        else:\n",
        "            smoothed_points.append(point)\n",
        "    return smoothed_points\n",
        "\n",
        "smooth_mae_history = smooth_curve(average_mae_history[10:])\n",
        "plt.plot(range(1, len(smooth_mae_history) + 1), smooth_mae_history)\n",
        "plt.xlabel('Epochs')\n",
        "plt.ylabel('Validation MAE')\n",
        "plt.show()"
      ],
      "execution_count": 0,
      "outputs": []
    },
    {
      "cell_type": "markdown",
      "metadata": {
        "id": "0kJZRgLPn0FR",
        "colab_type": "text"
      },
      "source": [
        " Once you’re finished tuning other parameters of the model (in addition to the\n",
        "number of epochs, you could also adjust the size of the hidden layers), you can train a\n",
        "final production model on all of the training data, with the best parameters, and then\n",
        "look at its performance on the test data."
      ]
    },
    {
      "cell_type": "markdown",
      "metadata": {
        "id": "BQ6-kMntn0FS",
        "colab_type": "text"
      },
      "source": [
        "### <span style='color:white;background-color:skyblue;padding:10px;'>Listing 3.32 Training the final model</span>"
      ]
    },
    {
      "cell_type": "code",
      "metadata": {
        "id": "Z9AU2iT8n0FT",
        "colab_type": "code",
        "colab": {}
      },
      "source": [
        "model = build_model()\n",
        "model.fit(train_data, train_targets,\n",
        "          epochs=80, batch_size=16, verbose=0)\n",
        "test_mse_score, test_mae_score = model.evaluate(test_data, test_targets)"
      ],
      "execution_count": 0,
      "outputs": []
    },
    {
      "cell_type": "markdown",
      "metadata": {
        "id": "OvdhWC2Jn0FY",
        "colab_type": "text"
      },
      "source": [
        "Here’s the final result:"
      ]
    },
    {
      "cell_type": "code",
      "metadata": {
        "id": "DDCuuP51n0FZ",
        "colab_type": "code",
        "colab": {}
      },
      "source": [
        " test_mae_score"
      ],
      "execution_count": 0,
      "outputs": []
    },
    {
      "cell_type": "markdown",
      "metadata": {
        "id": "LEvzOOCVn0Fc",
        "colab_type": "text"
      },
      "source": [
        "You’re still off by about $2,550."
      ]
    },
    {
      "cell_type": "markdown",
      "metadata": {
        "id": "ErZ8Js2On0Fd",
        "colab_type": "text"
      },
      "source": [
        "### 3.6.5 Wrapping up"
      ]
    },
    {
      "cell_type": "markdown",
      "metadata": {
        "id": "NmcGINAfn0Fd",
        "colab_type": "text"
      },
      "source": [
        "Here’s what you should take away from this example:"
      ]
    },
    {
      "cell_type": "markdown",
      "metadata": {
        "id": "hnDyUTTLn0Fe",
        "colab_type": "raw"
      },
      "source": [
        " Regression is done using different loss functions than what we used for classification.\n",
        "Mean squared error (MSE) is a loss function commonly used for regression.\n",
        " Similarly, evaluation metrics to be used for regression differ from those used for\n",
        "classification; naturally, the concept of accuracy doesn’t apply for regression. A\n",
        "common regression metric is mean absolute error (MAE).\n",
        " When features in the input data have values in different ranges, each feature\n",
        "should be scaled independently as a preprocessing step.\n",
        " When there is little data available, using K-fold validation is a great way to reliably\n",
        "evaluate a model.\n",
        " When little training data is available, it’s preferable to use a small network with\n",
        "few hidden layers (typically only one or two), in order to avoid severe overfitting. "
      ]
    },
    {
      "cell_type": "markdown",
      "metadata": {
        "id": "7QXuMoqHn0Fe",
        "colab_type": "text"
      },
      "source": [
        "# Chapter summary"
      ]
    },
    {
      "cell_type": "markdown",
      "metadata": {
        "id": "LMdetKwyn0Ff",
        "colab_type": "text"
      },
      "source": [
        "<div style='background-color:#ccc; padding:20px'>\n",
        "<li> You’re now able to handle the most common kinds of machine-learning\n",
        "tasks on vector data: binary classification, multiclass classification, and scalar\n",
        "regression. The “Wrapping up” sections earlier in the chapter summarize\n",
        "the important points you’ve learned regarding these types of tasks.\n",
        "<li> You’ll usually need to preprocess raw data before feeding it into a neural\n",
        "network.\n",
        "<li> When your data has features with different ranges, scale each feature\n",
        "independently as part of preprocessing.\n",
        "<li> As training progresses, neural networks eventually begin to overfit and\n",
        "obtain worse results on never-before-seen data.\n",
        "<li> If you don’t have much training data, use a small network with only one or\n",
        "two hidden layers, to avoid severe overfitting.\n",
        "<li> If your data is divided into many categories, you may cause information\n",
        "bottlenecks if you make the intermediate layers too small.\n",
        "<li> Regression uses different loss functions and different evaluation metrics\n",
        "than classification.\n",
        "<li> When you’re working with little data, K-fold validation can help reliably\n",
        "evaluate your model.\n",
        "\n",
        "</div>"
      ]
    }
  ]
}